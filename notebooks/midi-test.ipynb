{
 "cells": [
  {
   "cell_type": "code",
   "execution_count": 19,
   "metadata": {
    "collapsed": false
   },
   "outputs": [],
   "source": [
    "import mido\n",
    "from mido import MidiFile, MidiTrack"
   ]
  },
  {
   "cell_type": "code",
   "execution_count": 20,
   "metadata": {
    "collapsed": false
   },
   "outputs": [],
   "source": [
    "mid = MidiFile('/Users/snikolov/Downloads/midicsv-1.1/test.mid')"
   ]
  },
  {
   "cell_type": "code",
   "execution_count": 17,
   "metadata": {
    "collapsed": false
   },
   "outputs": [],
   "source": [
    "track = mid.tracks[1]"
   ]
  },
  {
   "cell_type": "code",
   "execution_count": 18,
   "metadata": {
    "collapsed": false
   },
   "outputs": [],
   "source": [
    "message = track[2]"
   ]
  },
  {
   "cell_type": "code",
   "execution_count": 101,
   "metadata": {
    "collapsed": true
   },
   "outputs": [],
   "source": [
    "TRACK_TIME_EVENTS = ['note_on', 'note_off', 'end_of_track']"
   ]
  },
  {
   "cell_type": "code",
   "execution_count": 173,
   "metadata": {
    "collapsed": false
   },
   "outputs": [],
   "source": [
    "def quantize_note_on(tick, resolution, quantization):\n",
    "    ticks_per_quantum = (resolution * 4) / 2 ** quantization\n",
    "    quantized_ticks = int(round(tick / float(ticks_per_quantum)) * ticks_per_quantum)\n",
    "    return quantized_ticks"
   ]
  },
  {
   "cell_type": "code",
   "execution_count": 117,
   "metadata": {
    "collapsed": false
   },
   "outputs": [],
   "source": [
    "import numpy as np\n",
    "\n",
    "def get_quantized_note_times(track, ticks_per_beat, quantization):\n",
    "    # In MIDI files, note event timing is differential. To make things\n",
    "    # simpler, create a list of cumulative note_on and note_off event times.\n",
    "    # Track 1 has the note events.\n",
    "    note_times = [ msg.time for msg in track \n",
    "                   if msg.type in TRACK_TIME_EVENTS ]\n",
    "    note_types = [ msg.type for msg in track\n",
    "                   if msg.type in TRACK_TIME_EVENTS ]\n",
    "    cum_note_times = np.cumsum(np.array(note_times))\n",
    "    quantized_cum_note_times = []\n",
    "    for cum_note_time, note_time, note_type in zip(cum_note_times, note_times, note_types):\n",
    "        if note_type == 'note_on':\n",
    "            quantized_cum_note_times.append(\n",
    "                quantize_note_on(cum_note_time, ticks_per_beat, quantization))\n",
    "        else:\n",
    "            quantized_cum_note_times.append(cum_note_time)\n",
    "\n",
    "    quantized_note_times = [0] + [ max(delta, 0) for delta in np.diff(np.array(quantized_cum_note_times)) ]\n",
    "    return quantized_note_times"
   ]
  },
  {
   "cell_type": "code",
   "execution_count": 170,
   "metadata": {
    "collapsed": false
   },
   "outputs": [],
   "source": [
    "import numpy as np\n",
    "\n",
    "def quantize(mid, quantization=4):\n",
    "    quantized_mid = copy.deepcopy(mid)\n",
    "    # By convention, Track 0 contains metadata and Track 1 contains\n",
    "    # the note on and note off events.\n",
    "    track = MidiTrack()\n",
    "    quantized_mid.tracks[1] = track\n",
    "\n",
    "    quantized_note_times = get_quantized_note_times(\n",
    "        mid.tracks[1], mid.ticks_per_beat, quantization)\n",
    "    quantized_note_times.reverse()\n",
    "   \n",
    "    for msg in mid.tracks[1]:        \n",
    "        if msg.type in TRACK_TIME_EVENTS:\n",
    "            quantized_note_time = quantized_note_times.pop()\n",
    "            track.append(msg.copy(time=quantized_note_time))\n",
    "        else:\n",
    "            track.append(msg.copy())\n",
    "    return quantized_mid\n",
    "        "
   ]
  },
  {
   "cell_type": "code",
   "execution_count": 172,
   "metadata": {
    "collapsed": false
   },
   "outputs": [
    {
     "name": "stdout",
     "output_type": "stream",
     "text": [
      "0 0 30\n",
      "0 0 30\n",
      "30 30 30\n",
      "30 30 30\n",
      "119 120 30\n",
      "122 120 30\n",
      "149 150 30\n",
      "152 150 30\n",
      "240 240 30\n",
      "244 240 30\n",
      "270 270 30\n",
      "274 270 30\n",
      "361 360 30\n",
      "391 390 30\n",
      "479 480 30\n",
      "509 510 30\n",
      "602 600 30\n",
      "605 600 30\n",
      "632 630 30\n",
      "635 630 30\n",
      "663 660 30\n",
      "693 690 30\n",
      "721 720 30\n",
      "722 720 30\n",
      "751 750 30\n",
      "752 750 30\n",
      "844 840 30\n",
      "874 870 30\n",
      "910 900 30\n",
      "940 930 30\n",
      "957 960 30\n",
      "960 960 30\n",
      "987 990 30\n",
      "990 990 30\n",
      "1079 1080 30\n",
      "1081 1080 30\n",
      "1109 1110 30\n",
      "1111 1110 30\n",
      "1199 1200 30\n",
      "1203 1200 30\n",
      "1229 1230 30\n",
      "1233 1230 30\n",
      "1324 1320 30\n",
      "1354 1350 30\n",
      "1390 1380 30\n",
      "1420 1410 30\n",
      "1442 1440 30\n",
      "1472 1470 30\n",
      "1508 1500 30\n",
      "1538 1530 30\n",
      "1561 1560 30\n",
      "1562 1560 30\n",
      "1591 1590 30\n",
      "1592 1590 30\n",
      "1681 1680 30\n",
      "1685 1680 30\n",
      "1711 1710 30\n",
      "1715 1710 30\n",
      "1801 1800 30\n",
      "1831 1830 30\n",
      "1868 1860 30\n",
      "1898 1890 30\n",
      "1916 1920 30\n",
      "1916 1920 30\n",
      "1946 1950 30\n",
      "1946 1950 30\n",
      "2038 2040 30\n",
      "2040 2040 30\n",
      "2068 2070 30\n",
      "2070 2070 30\n",
      "2159 2160 30\n",
      "2161 2160 30\n",
      "2189 2190 30\n",
      "2191 2190 30\n",
      "2282 2280 30\n",
      "2312 2310 30\n",
      "2403 2400 30\n",
      "2433 2430 30\n",
      "2522 2520 30\n",
      "2523 2520 30\n",
      "2552 2550 30\n",
      "2553 2550 30\n",
      "2586 2580 30\n",
      "2616 2610 30\n",
      "2636 2640 30\n",
      "2640 2640 30\n",
      "2666 2670 30\n",
      "2670 2670 30\n",
      "2762 2760 30\n",
      "2792 2790 30\n",
      "2831 2820 30\n",
      "2861 2850 30\n",
      "2878 2880 30\n",
      "2881 2880 30\n",
      "2908 2910 30\n",
      "2911 2910 30\n",
      "2951 2940 30\n",
      "2981 2970 30\n",
      "3001 3000 30\n",
      "3004 3000 30\n",
      "3031 3030 30\n",
      "3034 3030 30\n",
      "3124 3120 30\n",
      "3128 3120 30\n",
      "3154 3150 30\n",
      "3158 3150 30\n",
      "3245 3240 30\n",
      "3247 3240 30\n",
      "3275 3270 30\n",
      "3277 3270 30\n",
      "3309 3300 30\n",
      "3339 3330 30\n",
      "3362 3360 30\n",
      "3392 3390 30\n",
      "3428 3420 30\n",
      "3458 3450 30\n",
      "3479 3480 30\n",
      "3480 3480 30\n",
      "3509 3510 30\n",
      "3510 3510 30\n",
      "3598 3600 30\n",
      "3602 3600 30\n",
      "3628 3630 30\n",
      "3632 3630 30\n",
      "3663 3660 30\n",
      "3693 3690 30\n",
      "3725 3720 30\n",
      "3755 3750 30\n",
      "3788 3780 30\n",
      "3818 3810 30\n"
     ]
    }
   ],
   "source": [
    "mid = MidiFile('/Users/snikolov/Downloads/groove-monkee-midi-gm/Breakbeats/090 BPM New York/090 New York A.mid')\n",
    "quantized_mid = quantize(mid, quantization=5)\n",
    "quantized_mid.save('/Users/snikolov/Dropbox/projects/neural-beats/_090 New York A.mid')"
   ]
  },
  {
   "cell_type": "code",
   "execution_count": 120,
   "metadata": {
    "collapsed": false
   },
   "outputs": [
    {
     "data": {
      "text/plain": [
       "<bound method MidiFile.print_tracks of <midi file '/Users/snikolov/Downloads/midicsv-1.1/test.mid' type 1, 3 tracks, 87 messages>>"
      ]
     },
     "execution_count": 120,
     "metadata": {},
     "output_type": "execute_result"
    }
   ],
   "source": [
    "quantized_mid.print_tracks"
   ]
  },
  {
   "cell_type": "code",
   "execution_count": 140,
   "metadata": {
    "collapsed": false
   },
   "outputs": [],
   "source": [
    "mid.save('/Users/snikolov/Downloads/midicsv-1.1/test_.mid')"
   ]
  },
  {
   "cell_type": "code",
   "execution_count": 151,
   "metadata": {
    "collapsed": false
   },
   "outputs": [
    {
     "data": {
      "text/plain": [
       "array([  0,   0,   0,  54,  54,  60, 113, 120, 177, 240, 240, 295, 299,\n",
       "       300, 300, 358, 360, 361, 413, 420, 479, 480, 534, 540, 594, 600,\n",
       "       600, 656, 657, 720, 720, 775, 778, 780, 840, 840, 898, 900, 947, 952])"
      ]
     },
     "execution_count": 151,
     "metadata": {},
     "output_type": "execute_result"
    }
   ],
   "source": [
    "np.cumsum([ msg.time for msg in quantized_mid.tracks[1] ])"
   ]
  },
  {
   "cell_type": "code",
   "execution_count": 150,
   "metadata": {
    "collapsed": false
   },
   "outputs": [
    {
     "data": {
      "text/plain": [
       "array([  0,   0,   0,  54,  54,  60, 113, 123, 177, 241, 245, 295, 299,\n",
       "       304, 307, 358, 359, 361, 413, 425, 479, 480, 534, 540, 594, 602,\n",
       "       603, 656, 657, 721, 724, 775, 778, 786, 840, 844, 898, 904, 947, 952])"
      ]
     },
     "execution_count": 150,
     "metadata": {},
     "output_type": "execute_result"
    }
   ],
   "source": [
    "np.cumsum([ msg.time for msg in mid.tracks[1] ])"
   ]
  },
  {
   "cell_type": "code",
   "execution_count": 143,
   "metadata": {
    "collapsed": false
   },
   "outputs": [
    {
     "name": "stdout",
     "output_type": "stream",
     "text": [
      "=== Track 0\n",
      "<meta message track_name name=u'093 16ths 08' time=0>\n",
      "<meta message time_signature numerator=4 denominator=4 clocks_per_click=24 notated_32nd_notes_per_beat=8 time=0>\n",
      "<meta message set_tempo tempo=923077 time=0>\n",
      "<meta message set_tempo tempo=674157 time=0>\n",
      "<meta message set_tempo tempo=588235 time=0>\n",
      "<meta message set_tempo tempo=638298 time=0>\n",
      "<meta message end_of_track time=0>\n",
      "=== Track 1\n",
      "<meta message track_name name=u'093 16ths 08' time=0>\n",
      "<message note_on channel=9 note=42 velocity=96 time=0>\n",
      "<message note_on channel=9 note=36 velocity=116 time=0>\n",
      "<message note_off channel=9 note=42 velocity=64 time=54>\n",
      "<message note_off channel=9 note=36 velocity=64 time=0>\n",
      "<message note_on channel=9 note=42 velocity=68 time=6>\n",
      "<message note_off channel=9 note=42 velocity=64 time=53>\n",
      "<message note_on channel=9 note=46 velocity=91 time=7>\n",
      "<message note_off channel=9 note=46 velocity=64 time=57>\n",
      "<message note_on channel=9 note=42 velocity=91 time=63>\n",
      "<message note_on channel=9 note=38 velocity=116 time=0>\n",
      "<message note_off channel=9 note=42 velocity=64 time=55>\n",
      "<message note_off channel=9 note=38 velocity=64 time=4>\n",
      "<message note_on channel=9 note=36 velocity=105 time=1>\n",
      "<message note_on channel=9 note=42 velocity=70 time=0>\n",
      "<message note_off channel=9 note=36 velocity=64 time=58>\n",
      "<message note_on channel=9 note=46 velocity=93 time=2>\n",
      "<message note_off channel=9 note=42 velocity=64 time=1>\n",
      "<message note_off channel=9 note=46 velocity=64 time=52>\n",
      "<message note_on channel=9 note=36 velocity=115 time=7>\n",
      "<message note_off channel=9 note=36 velocity=64 time=59>\n",
      "<message note_on channel=9 note=42 velocity=87 time=1>\n",
      "<message note_off channel=9 note=42 velocity=64 time=54>\n",
      "<message note_on channel=9 note=42 velocity=68 time=6>\n",
      "<message note_off channel=9 note=42 velocity=64 time=54>\n",
      "<message note_on channel=9 note=46 velocity=90 time=6>\n",
      "<message note_on channel=9 note=36 velocity=115 time=0>\n",
      "<message note_off channel=9 note=46 velocity=64 time=56>\n",
      "<message note_off channel=9 note=36 velocity=64 time=1>\n",
      "<message note_on channel=9 note=42 velocity=89 time=63>\n",
      "<message note_on channel=9 note=38 velocity=118 time=0>\n",
      "<message note_off channel=9 note=42 velocity=64 time=55>\n",
      "<message note_off channel=9 note=38 velocity=64 time=3>\n",
      "<message note_on channel=9 note=42 velocity=68 time=2>\n",
      "<message note_off channel=9 note=42 velocity=64 time=60>\n",
      "<message note_on channel=9 note=46 velocity=92 time=0>\n",
      "<message note_off channel=9 note=46 velocity=64 time=58>\n",
      "<message note_on channel=9 note=36 velocity=106 time=2>\n",
      "<message note_off channel=9 note=36 velocity=64 time=47>\n",
      "<meta message end_of_track time=5>\n"
     ]
    }
   ],
   "source": [
    "quantized_mid.print_tracks()"
   ]
  },
  {
   "cell_type": "code",
   "execution_count": 5,
   "metadata": {
    "collapsed": false
   },
   "outputs": [],
   "source": [
    "import sys\n",
    "sys.path.append('..')\n",
    "import midi_util"
   ]
  },
  {
   "cell_type": "code",
   "execution_count": 6,
   "metadata": {
    "collapsed": false
   },
   "outputs": [],
   "source": [
    "reload(midi_util)\n",
    "mid = MidiFile('/Users/snikolov/Downloads/groove-monkee-midi-gm/original/World Beats/Drum Set/109 Bossa Nova 04.mid')\n",
    "note_times = midi_util.quantize_track(mid.tracks[1], mid.ticks_per_beat, 6)\n",
    "q_mid = midi_util.quantize(mid, quantization=5)\n",
    "q_mid.save('109 Bossa Nova 04.mid')"
   ]
  },
  {
   "cell_type": "code",
   "execution_count": 213,
   "metadata": {
    "collapsed": false
   },
   "outputs": [
    {
     "data": {
      "text/plain": [
       "<midi track u'080 Rock Toms 1 F2' 224 messages>"
      ]
     },
     "execution_count": 213,
     "metadata": {},
     "output_type": "execute_result"
    }
   ],
   "source": [
    "mid.tracks[1]"
   ]
  },
  {
   "cell_type": "code",
   "execution_count": 196,
   "metadata": {
    "collapsed": false
   },
   "outputs": [],
   "source": [
    "cum_msgs = zip(np.cumsum([msg.time for msg in msgs]), [msg for msg in msgs])"
   ]
  },
  {
   "cell_type": "code",
   "execution_count": 197,
   "metadata": {
    "collapsed": false
   },
   "outputs": [
    {
     "data": {
      "text/plain": [
       "[(0, <meta message track_name name=u'080 Rock Toms 1 F2' time=0>),\n",
       " (0, <message note_on channel=9 note=38 velocity=112 time=0>),\n",
       " (0, <message note_on channel=9 note=36 velocity=113 time=0>),\n",
       " (23, <message note_off channel=9 note=38 velocity=64 time=23>),\n",
       " (30, <message note_off channel=9 note=36 velocity=64 time=7>),\n",
       " (63, <message note_on channel=9 note=48 velocity=106 time=33>),\n",
       " (88, <message note_off channel=9 note=48 velocity=64 time=25>),\n",
       " (95, <message note_on channel=9 note=48 velocity=100 time=7>),\n",
       " (118, <message note_off channel=9 note=48 velocity=64 time=23>),\n",
       " (124, <message note_on channel=9 note=45 velocity=100 time=6>),\n",
       " (124, <message note_on channel=9 note=36 velocity=101 time=0>),\n",
       " (149, <message note_off channel=9 note=45 velocity=64 time=25>),\n",
       " (154, <message note_off channel=9 note=36 velocity=64 time=5>),\n",
       " (186, <message note_on channel=9 note=43 velocity=89 time=32>),\n",
       " (211, <message note_off channel=9 note=43 velocity=64 time=25>),\n",
       " (242, <message note_on channel=9 note=36 velocity=107 time=31>),\n",
       " (246, <message note_on channel=9 note=45 velocity=100 time=4>),\n",
       " (271, <message note_off channel=9 note=45 velocity=64 time=25>),\n",
       " (272, <message note_off channel=9 note=36 velocity=64 time=1>),\n",
       " (304, <message note_on channel=9 note=48 velocity=100 time=32>),\n",
       " (329, <message note_off channel=9 note=48 velocity=64 time=25>),\n",
       " (364, <message note_on channel=9 note=36 velocity=101 time=35>),\n",
       " (366, <message note_on channel=9 note=38 velocity=115 time=2>),\n",
       " (391, <message note_off channel=9 note=38 velocity=64 time=25>),\n",
       " (394, <message note_off channel=9 note=36 velocity=64 time=3>),\n",
       " (423, <message note_on channel=9 note=48 velocity=102 time=29>),\n",
       " (448, <message note_off channel=9 note=48 velocity=64 time=25>),\n",
       " (457, <message note_on channel=9 note=48 velocity=98 time=9>),\n",
       " (480, <message note_off channel=9 note=48 velocity=64 time=23>),\n",
       " (484, <message note_on channel=9 note=45 velocity=108 time=4>),\n",
       " (484, <message note_on channel=9 note=36 velocity=107 time=0>),\n",
       " (509, <message note_off channel=9 note=45 velocity=64 time=25>),\n",
       " (514, <message note_off channel=9 note=36 velocity=64 time=5>),\n",
       " (544, <message note_on channel=9 note=43 velocity=100 time=30>),\n",
       " (569, <message note_off channel=9 note=43 velocity=64 time=25>),\n",
       " (573, <message note_on channel=9 note=43 velocity=100 time=4>),\n",
       " (603, <message note_off channel=9 note=43 velocity=64 time=30>),\n",
       " (605, <message note_on channel=9 note=36 velocity=99 time=2>),\n",
       " (607, <message note_on channel=9 note=45 velocity=108 time=2>),\n",
       " (632, <message note_off channel=9 note=45 velocity=64 time=25>),\n",
       " (635, <message note_off channel=9 note=36 velocity=64 time=3>),\n",
       " (664, <message note_on channel=9 note=48 velocity=109 time=29>),\n",
       " (689, <message note_off channel=9 note=48 velocity=64 time=25>),\n",
       " (723, <message note_on channel=9 note=38 velocity=119 time=34>),\n",
       " (724, <message note_on channel=9 note=36 velocity=105 time=1>),\n",
       " (748, <message note_off channel=9 note=38 velocity=64 time=24>),\n",
       " (754, <message note_off channel=9 note=36 velocity=64 time=6>),\n",
       " (786, <message note_on channel=9 note=48 velocity=100 time=32>),\n",
       " (811, <message note_off channel=9 note=48 velocity=64 time=25>),\n",
       " (816, <message note_on channel=9 note=48 velocity=93 time=5>),\n",
       " (841, <message note_off channel=9 note=48 velocity=64 time=25>),\n",
       " (843, <message note_on channel=9 note=36 velocity=98 time=2>),\n",
       " (844, <message note_on channel=9 note=45 velocity=105 time=1>),\n",
       " (869, <message note_off channel=9 note=45 velocity=64 time=25>),\n",
       " (873, <message note_off channel=9 note=36 velocity=64 time=4>),\n",
       " (904, <message note_on channel=9 note=43 velocity=109 time=31>),\n",
       " (929, <message note_off channel=9 note=43 velocity=64 time=25>),\n",
       " (963, <message note_on channel=9 note=38 velocity=113 time=34>),\n",
       " (963, <message note_on channel=9 note=36 velocity=108 time=0>),\n",
       " (988, <message note_off channel=9 note=38 velocity=64 time=25>),\n",
       " (993, <message note_off channel=9 note=36 velocity=64 time=5>),\n",
       " (1024, <message note_on channel=9 note=48 velocity=102 time=31>),\n",
       " (1049, <message note_off channel=9 note=48 velocity=64 time=25>),\n",
       " (1053, <message note_on channel=9 note=48 velocity=94 time=4>),\n",
       " (1076, <message note_off channel=9 note=48 velocity=64 time=23>),\n",
       " (1084, <message note_on channel=9 note=45 velocity=88 time=8>),\n",
       " (1085, <message note_on channel=9 note=36 velocity=98 time=1>),\n",
       " (1109, <message note_off channel=9 note=45 velocity=64 time=24>),\n",
       " (1115, <message note_off channel=9 note=36 velocity=64 time=6>),\n",
       " (1144, <message note_on channel=9 note=43 velocity=94 time=29>),\n",
       " (1169, <message note_off channel=9 note=43 velocity=64 time=25>),\n",
       " (1202, <message note_on channel=9 note=36 velocity=105 time=33>),\n",
       " (1204, <message note_on channel=9 note=45 velocity=110 time=2>),\n",
       " (1229, <message note_off channel=9 note=45 velocity=64 time=25>),\n",
       " (1232, <message note_off channel=9 note=36 velocity=64 time=3>),\n",
       " (1268, <message note_on channel=9 note=48 velocity=105 time=36>),\n",
       " (1293, <message note_off channel=9 note=48 velocity=64 time=25>),\n",
       " (1324, <message note_on channel=9 note=38 velocity=119 time=31>),\n",
       " (1324, <message note_on channel=9 note=36 velocity=95 time=0>),\n",
       " (1349, <message note_off channel=9 note=38 velocity=64 time=25>),\n",
       " (1354, <message note_off channel=9 note=36 velocity=64 time=5>),\n",
       " (1384, <message note_on channel=9 note=48 velocity=108 time=30>),\n",
       " (1409, <message note_off channel=9 note=48 velocity=64 time=25>),\n",
       " (1418, <message note_on channel=9 note=48 velocity=100 time=9>),\n",
       " (1441, <message note_off channel=9 note=48 velocity=64 time=23>),\n",
       " (1443, <message note_on channel=9 note=36 velocity=105 time=2>),\n",
       " (1446, <message note_on channel=9 note=45 velocity=95 time=3>),\n",
       " (1471, <message note_off channel=9 note=45 velocity=64 time=25>),\n",
       " (1473, <message note_off channel=9 note=36 velocity=64 time=2>),\n",
       " (1504, <message note_on channel=9 note=43 velocity=107 time=31>),\n",
       " (1529, <message note_off channel=9 note=43 velocity=64 time=25>),\n",
       " (1533, <message note_on channel=9 note=43 velocity=100 time=4>),\n",
       " (1563, <message note_off channel=9 note=43 velocity=64 time=30>),\n",
       " (1564, <message note_on channel=9 note=45 velocity=111 time=1>),\n",
       " (1564, <message note_on channel=9 note=36 velocity=98 time=0>),\n",
       " (1589, <message note_off channel=9 note=45 velocity=64 time=25>),\n",
       " (1594, <message note_off channel=9 note=36 velocity=64 time=5>),\n",
       " (1624, <message note_on channel=9 note=48 velocity=117 time=30>),\n",
       " (1649, <message note_off channel=9 note=48 velocity=64 time=25>),\n",
       " (1684, <message note_on channel=9 note=36 velocity=105 time=35>),\n",
       " (1685, <message note_on channel=9 note=38 velocity=117 time=1>),\n",
       " (1710, <message note_off channel=9 note=38 velocity=64 time=25>),\n",
       " (1714, <message note_off channel=9 note=36 velocity=64 time=4>),\n",
       " (1745, <message note_on channel=9 note=48 velocity=109 time=31>),\n",
       " (1770, <message note_off channel=9 note=48 velocity=64 time=25>),\n",
       " (1804, <message note_on channel=9 note=45 velocity=114 time=34>),\n",
       " (1806, <message note_on channel=9 note=36 velocity=100 time=2>),\n",
       " (1829, <message note_off channel=9 note=45 velocity=64 time=23>),\n",
       " (1836, <message note_off channel=9 note=36 velocity=64 time=7>),\n",
       " (1864, <message note_on channel=9 note=43 velocity=109 time=28>),\n",
       " (1889, <message note_off channel=9 note=43 velocity=64 time=25>),\n",
       " (1895, <message note_on channel=9 note=43 velocity=103 time=6>),\n",
       " (1916, <message note_off channel=9 note=43 velocity=64 time=21>),\n",
       " (1923, <message note_on channel=9 note=36 velocity=111 time=7>),\n",
       " (1925, <message note_on channel=9 note=38 velocity=114 time=2>),\n",
       " (1948, <message note_off channel=9 note=38 velocity=64 time=23>),\n",
       " (1953, <message note_off channel=9 note=36 velocity=64 time=5>),\n",
       " (1983, <message note_on channel=9 note=48 velocity=106 time=30>),\n",
       " (2008, <message note_off channel=9 note=48 velocity=64 time=25>),\n",
       " (2015, <message note_on channel=9 note=48 velocity=100 time=7>),\n",
       " (2038, <message note_off channel=9 note=48 velocity=64 time=23>),\n",
       " (2044, <message note_on channel=9 note=45 velocity=100 time=6>),\n",
       " (2045, <message note_on channel=9 note=36 velocity=99 time=1>),\n",
       " (2069, <message note_off channel=9 note=45 velocity=64 time=24>),\n",
       " (2075, <message note_off channel=9 note=36 velocity=64 time=6>),\n",
       " (2106, <message note_on channel=9 note=43 velocity=89 time=31>),\n",
       " (2131, <message note_off channel=9 note=43 velocity=64 time=25>),\n",
       " (2162, <message note_on channel=9 note=36 velocity=107 time=31>),\n",
       " (2166, <message note_on channel=9 note=45 velocity=100 time=4>),\n",
       " (2191, <message note_off channel=9 note=45 velocity=64 time=25>),\n",
       " (2192, <message note_off channel=9 note=36 velocity=64 time=1>),\n",
       " (2224, <message note_on channel=9 note=48 velocity=100 time=32>),\n",
       " (2249, <message note_off channel=9 note=48 velocity=64 time=25>),\n",
       " (2284, <message note_on channel=9 note=36 velocity=101 time=35>),\n",
       " (2286, <message note_on channel=9 note=38 velocity=115 time=2>),\n",
       " (2311, <message note_off channel=9 note=38 velocity=64 time=25>),\n",
       " (2314, <message note_off channel=9 note=36 velocity=64 time=3>),\n",
       " (2343, <message note_on channel=9 note=48 velocity=102 time=29>),\n",
       " (2368, <message note_off channel=9 note=48 velocity=64 time=25>),\n",
       " (2377, <message note_on channel=9 note=48 velocity=98 time=9>),\n",
       " (2400, <message note_off channel=9 note=48 velocity=64 time=23>),\n",
       " (2404, <message note_on channel=9 note=45 velocity=108 time=4>),\n",
       " (2404, <message note_on channel=9 note=36 velocity=107 time=0>),\n",
       " (2429, <message note_off channel=9 note=45 velocity=64 time=25>),\n",
       " (2434, <message note_off channel=9 note=36 velocity=64 time=5>),\n",
       " (2464, <message note_on channel=9 note=43 velocity=100 time=30>),\n",
       " (2489, <message note_off channel=9 note=43 velocity=64 time=25>),\n",
       " (2493, <message note_on channel=9 note=43 velocity=100 time=4>),\n",
       " (2523, <message note_off channel=9 note=43 velocity=64 time=30>),\n",
       " (2525, <message note_on channel=9 note=36 velocity=99 time=2>),\n",
       " (2527, <message note_on channel=9 note=45 velocity=108 time=2>),\n",
       " (2552, <message note_off channel=9 note=45 velocity=64 time=25>),\n",
       " (2555, <message note_off channel=9 note=36 velocity=64 time=3>),\n",
       " (2584, <message note_on channel=9 note=48 velocity=115 time=29>),\n",
       " (2609, <message note_off channel=9 note=48 velocity=64 time=25>),\n",
       " (2643, <message note_on channel=9 note=38 velocity=119 time=34>),\n",
       " (2644, <message note_on channel=9 note=36 velocity=105 time=1>),\n",
       " (2668, <message note_off channel=9 note=38 velocity=64 time=24>),\n",
       " (2674, <message note_off channel=9 note=36 velocity=64 time=6>),\n",
       " (2706, <message note_on channel=9 note=48 velocity=100 time=32>),\n",
       " (2731, <message note_off channel=9 note=48 velocity=64 time=25>),\n",
       " (2736, <message note_on channel=9 note=48 velocity=93 time=5>),\n",
       " (2761, <message note_off channel=9 note=48 velocity=64 time=25>),\n",
       " (2763, <message note_on channel=9 note=36 velocity=98 time=2>),\n",
       " (2764, <message note_on channel=9 note=45 velocity=105 time=1>),\n",
       " (2789, <message note_off channel=9 note=45 velocity=64 time=25>),\n",
       " (2793, <message note_off channel=9 note=36 velocity=64 time=4>),\n",
       " (2824, <message note_on channel=9 note=43 velocity=109 time=31>),\n",
       " (2849, <message note_off channel=9 note=43 velocity=64 time=25>),\n",
       " (2883, <message note_on channel=9 note=38 velocity=113 time=34>),\n",
       " (2883, <message note_on channel=9 note=36 velocity=108 time=0>),\n",
       " (2908, <message note_off channel=9 note=38 velocity=64 time=25>),\n",
       " (2913, <message note_off channel=9 note=36 velocity=64 time=5>),\n",
       " (2944, <message note_on channel=9 note=48 velocity=102 time=31>),\n",
       " (2969, <message note_off channel=9 note=48 velocity=64 time=25>),\n",
       " (2973, <message note_on channel=9 note=48 velocity=94 time=4>),\n",
       " (2996, <message note_off channel=9 note=48 velocity=64 time=23>),\n",
       " (3004, <message note_on channel=9 note=45 velocity=88 time=8>),\n",
       " (3005, <message note_on channel=9 note=36 velocity=98 time=1>),\n",
       " (3029, <message note_off channel=9 note=45 velocity=64 time=24>),\n",
       " (3035, <message note_off channel=9 note=36 velocity=64 time=6>),\n",
       " (3064, <message note_on channel=9 note=43 velocity=94 time=29>),\n",
       " (3089, <message note_off channel=9 note=43 velocity=64 time=25>),\n",
       " (3122, <message note_on channel=9 note=36 velocity=105 time=33>),\n",
       " (3124, <message note_on channel=9 note=45 velocity=110 time=2>),\n",
       " (3149, <message note_off channel=9 note=45 velocity=64 time=25>),\n",
       " (3152, <message note_off channel=9 note=36 velocity=64 time=3>),\n",
       " (3188, <message note_on channel=9 note=48 velocity=105 time=36>),\n",
       " (3213, <message note_off channel=9 note=48 velocity=64 time=25>),\n",
       " (3244, <message note_on channel=9 note=38 velocity=119 time=31>),\n",
       " (3244, <message note_on channel=9 note=36 velocity=95 time=0>),\n",
       " (3269, <message note_off channel=9 note=38 velocity=64 time=25>),\n",
       " (3274, <message note_off channel=9 note=36 velocity=64 time=5>),\n",
       " (3304, <message note_on channel=9 note=48 velocity=108 time=30>),\n",
       " (3329, <message note_off channel=9 note=48 velocity=64 time=25>),\n",
       " (3338, <message note_on channel=9 note=48 velocity=100 time=9>),\n",
       " (3361, <message note_off channel=9 note=48 velocity=64 time=23>),\n",
       " (3363, <message note_on channel=9 note=36 velocity=105 time=2>),\n",
       " (3366, <message note_on channel=9 note=45 velocity=95 time=3>),\n",
       " (3391, <message note_off channel=9 note=45 velocity=64 time=25>),\n",
       " (3393, <message note_off channel=9 note=36 velocity=64 time=2>),\n",
       " (3424, <message note_on channel=9 note=43 velocity=114 time=31>),\n",
       " (3449, <message note_off channel=9 note=43 velocity=64 time=25>),\n",
       " (3453, <message note_on channel=9 note=43 velocity=107 time=4>),\n",
       " (3483, <message note_off channel=9 note=43 velocity=64 time=30>),\n",
       " (3484, <message note_on channel=9 note=45 velocity=104 time=1>),\n",
       " (3484, <message note_on channel=9 note=36 velocity=106 time=0>),\n",
       " (3509, <message note_off channel=9 note=45 velocity=64 time=25>),\n",
       " (3514, <message note_off channel=9 note=36 velocity=64 time=5>),\n",
       " (3544, <message note_on channel=9 note=48 velocity=120 time=30>),\n",
       " (3569, <message note_off channel=9 note=48 velocity=64 time=25>),\n",
       " (3596, <message note_on channel=9 note=38 velocity=112 time=27>),\n",
       " (3610, <message note_on channel=9 note=38 velocity=125 time=14>),\n",
       " (3612, <message note_off channel=9 note=38 velocity=64 time=2>),\n",
       " (3640, <message note_off channel=9 note=38 velocity=64 time=28>),\n",
       " (3657, <message note_on channel=9 note=36 velocity=104 time=17>),\n",
       " (3682, <message note_off channel=9 note=36 velocity=64 time=25>),\n",
       " (3715, <message note_on channel=9 note=38 velocity=109 time=33>),\n",
       " (3730, <message note_on channel=9 note=38 velocity=125 time=15>),\n",
       " (3734, <message note_off channel=9 note=38 velocity=64 time=4>),\n",
       " (3760, <message note_off channel=9 note=38 velocity=64 time=26>),\n",
       " (3778, <message note_on channel=9 note=36 velocity=105 time=18>),\n",
       " (3808, <message note_off channel=9 note=36 velocity=64 time=30>),\n",
       " (3808, <meta message end_of_track time=0>)]"
      ]
     },
     "execution_count": 197,
     "metadata": {},
     "output_type": "execute_result"
    }
   ],
   "source": [
    "cum_msgs"
   ]
  },
  {
   "cell_type": "code",
   "execution_count": 182,
   "metadata": {
    "collapsed": false
   },
   "outputs": [
    {
     "data": {
      "text/plain": [
       "array([   0,    0,   23,   30,   60,   88,   90,  118,  120,  120,  149,\n",
       "        154,  180,  211,  240,  240,  271,  272,  300,  329,  360,  360,\n",
       "        391,  394,  420,  448,  450,  480,  480,  480,  509,  514,  540,\n",
       "        569,  570,  603,  603,  603,  635,  638,  663,  692,  723,  723,\n",
       "        751,  757,  783,  814,  814,  845,  845,  845,  874,  878,  905,\n",
       "        934,  965,  965,  993,  998, 1025, 1054, 1055, 1081, 1085, 1085,\n",
       "       1114, 1120, 1145, 1174, 1205, 1205, 1234, 1237, 1265, 1298, 1325,\n",
       "       1325, 1354, 1359, 1385, 1414, 1415, 1446, 1446, 1446, 1477, 1479,\n",
       "       1506, 1535, 1536, 1569, 1569, 1569, 1598, 1603, 1629, 1658, 1689,\n",
       "       1689, 1719, 1723, 1749, 1779, 1809, 1809, 1838, 1845, 1869, 1898,\n",
       "       1899, 1925, 1929, 1929, 1957, 1962, 1989, 2017, 2019, 2047, 2049,\n",
       "       2049, 2078, 2084, 2109, 2140, 2169, 2169, 2200, 2201, 2229, 2258,\n",
       "       2289, 2289, 2320, 2323, 2349, 2377, 2379, 2409, 2409, 2409, 2438,\n",
       "       2443, 2469, 2498, 2499, 2532, 2532, 2532, 2564, 2567, 2592, 2621,\n",
       "       2652, 2652, 2680, 2686, 2712, 2743, 2743, 2774, 2774, 2774, 2803,\n",
       "       2807, 2834, 2863, 2894, 2894, 2922, 2927, 2954, 2983, 2984, 3010,\n",
       "       3014, 3014, 3043, 3049, 3074, 3103, 3134, 3134, 3163, 3166, 3194,\n",
       "       3227, 3254, 3254, 3283, 3288, 3314, 3343, 3344, 3375, 3375, 3375,\n",
       "       3406, 3408, 3435, 3464, 3465, 3498, 3498, 3498, 3527, 3532, 3558,\n",
       "       3587, 3618, 3618, 3630, 3658, 3678, 3700, 3738, 3738, 3752, 3778,\n",
       "       3798, 3826, 3826])"
      ]
     },
     "execution_count": 182,
     "metadata": {},
     "output_type": "execute_result"
    }
   ],
   "source": [
    "np.cumsum(note_times)"
   ]
  },
  {
   "cell_type": "code",
   "execution_count": 208,
   "metadata": {
    "collapsed": false
   },
   "outputs": [
    {
     "data": {
      "text/plain": [
       "3"
      ]
     },
     "execution_count": 208,
     "metadata": {},
     "output_type": "execute_result"
    }
   ],
   "source": []
  },
  {
   "cell_type": "code",
   "execution_count": 207,
   "metadata": {
    "collapsed": false
   },
   "outputs": [
    {
     "data": {
      "text/plain": [
       "[5, 1, 2, 3]"
      ]
     },
     "execution_count": 207,
     "metadata": {},
     "output_type": "execute_result"
    }
   ],
   "source": [
    "x"
   ]
  },
  {
   "cell_type": "markdown",
   "metadata": {},
   "source": [
    "# Convert quantized midi to input vectors"
   ]
  },
  {
   "cell_type": "code",
   "execution_count": 224,
   "metadata": {
    "collapsed": false
   },
   "outputs": [],
   "source": [
    "mid = MidiFile('/Users/snikolov/Downloads/groove-monkee-midi-gm/quantized/Funk Hip Hop RB/16ths/093 16ths 08 B.mid')"
   ]
  },
  {
   "cell_type": "code",
   "execution_count": 225,
   "metadata": {
    "collapsed": true
   },
   "outputs": [],
   "source": [
    "time_sig = [ msg for msg in mid.tracks[0] if msg.type == 'time_signature'][0]"
   ]
  },
  {
   "cell_type": "code",
   "execution_count": 227,
   "metadata": {
    "collapsed": false
   },
   "outputs": [
    {
     "data": {
      "text/plain": [
       "4"
      ]
     },
     "execution_count": 227,
     "metadata": {},
     "output_type": "execute_result"
    }
   ],
   "source": [
    "time_sig.denominator"
   ]
  },
  {
   "cell_type": "code",
   "execution_count": 234,
   "metadata": {
    "collapsed": true
   },
   "outputs": [],
   "source": [
    "quantization = 5 # 1/32 note grid"
   ]
  },
  {
   "cell_type": "code",
   "execution_count": 277,
   "metadata": {
    "collapsed": false
   },
   "outputs": [],
   "source": [
    "from math import log, floor, ceil\n",
    "# Track length should be normalized to a power of 2 for tracks with 4/4 time signature \n",
    "\n",
    "def track_to_vectors(mid, quantization):\n",
    "    '''Convert track to sequence of vectors.'''\n",
    "    track = mid.tracks[1]\n",
    "    ticks_per_quarter = mid.ticks_per_beat\n",
    "    \n",
    "    time_msgs = [msg for msg in track if hasattr(msg, 'time')]\n",
    "    cum_times = np.cumsum([msg.time for msg in time_msgs])\n",
    "    track_len_ticks = cum_times[-1]\n",
    "    print 'Track len in ticks:', track_len_ticks\n",
    "    notes = [\n",
    "        (time * (2**quantization/4) / (ticks_per_quarter), msg.note, msg.velocity)\n",
    "        for (time, msg) in zip(cum_times, time_msgs)\n",
    "        if msg.type == 'note_on' ]\n",
    "    num_notes = int(round(track_len_ticks / float(ticks_per_quarter)))*2**quantization/4\n",
    "    normalized_num_notes = nearest_pow2(num_notes)\n",
    "\n",
    "    vectors = np.zeros((normalized_num_notes, 128))\n",
    "    for (position, note_num, velocity) in notes:\n",
    "        vectors[position, note_num] = velocity\n",
    "    \n",
    "    return vectors\n",
    "    \n",
    "def nearest_pow2(x):\n",
    "    '''Normalize input to nearest power of 2.'''\n",
    "    low = 2**int(floor(log(x, 2)))\n",
    "    high = 2**int(ceil(log(x, 2)))\n",
    "    if high - x < x - low:\n",
    "        nearest = high\n",
    "    else:\n",
    "        nearest = low\n",
    "    return nearest"
   ]
  },
  {
   "cell_type": "code",
   "execution_count": 278,
   "metadata": {
    "collapsed": false
   },
   "outputs": [
    {
     "name": "stdout",
     "output_type": "stream",
     "text": [
      "> \u001b[0;32m<ipython-input-275-ac4eb80178c3>\u001b[0m(28)\u001b[0;36mnearest_pow2\u001b[0;34m()\u001b[0m\n",
      "\u001b[0;32m     27 \u001b[0;31m    \u001b[0;34m'''Normalize input to nearest power of 2.'''\u001b[0m\u001b[0;34m\u001b[0m\u001b[0m\n",
      "\u001b[0m\u001b[0;32m---> 28 \u001b[0;31m    \u001b[0mlow\u001b[0m \u001b[0;34m=\u001b[0m \u001b[0;36m2\u001b[0m\u001b[0;34m**\u001b[0m\u001b[0mint\u001b[0m\u001b[0;34m(\u001b[0m\u001b[0mfloor\u001b[0m\u001b[0;34m(\u001b[0m\u001b[0mlog\u001b[0m\u001b[0;34m(\u001b[0m\u001b[0mx\u001b[0m\u001b[0;34m,\u001b[0m \u001b[0;36m2\u001b[0m\u001b[0;34m)\u001b[0m\u001b[0;34m)\u001b[0m\u001b[0;34m)\u001b[0m\u001b[0;34m\u001b[0m\u001b[0m\n",
      "\u001b[0m\u001b[0;32m     29 \u001b[0;31m    \u001b[0mhigh\u001b[0m \u001b[0;34m=\u001b[0m \u001b[0;36m2\u001b[0m\u001b[0;34m**\u001b[0m\u001b[0mint\u001b[0m\u001b[0;34m(\u001b[0m\u001b[0mceil\u001b[0m\u001b[0;34m(\u001b[0m\u001b[0mlog\u001b[0m\u001b[0;34m(\u001b[0m\u001b[0mx\u001b[0m\u001b[0;34m,\u001b[0m \u001b[0;36m2\u001b[0m\u001b[0;34m)\u001b[0m\u001b[0;34m)\u001b[0m\u001b[0;34m)\u001b[0m\u001b[0;34m\u001b[0m\u001b[0m\n",
      "\u001b[0m\n",
      "ipdb> c\n",
      "Track len in ticks: 948\n"
     ]
    }
   ],
   "source": [
    "%debug\n",
    "x = track_to_vectors(mid, 5)"
   ]
  },
  {
   "cell_type": "code",
   "execution_count": 279,
   "metadata": {
    "collapsed": false
   },
   "outputs": [
    {
     "data": {
      "text/plain": [
       "array([[ 0.,  0.,  0., ...,  0.,  0.,  0.],\n",
       "       [ 0.,  0.,  0., ...,  0.,  0.,  0.],\n",
       "       [ 0.,  0.,  0., ...,  0.,  0.,  0.],\n",
       "       ..., \n",
       "       [ 0.,  0.,  0., ...,  0.,  0.,  0.],\n",
       "       [ 0.,  0.,  0., ...,  0.,  0.,  0.],\n",
       "       [ 0.,  0.,  0., ...,  0.,  0.,  0.]])"
      ]
     },
     "execution_count": 279,
     "metadata": {},
     "output_type": "execute_result"
    }
   ],
   "source": [
    "x"
   ]
  },
  {
   "cell_type": "code",
   "execution_count": 21,
   "metadata": {
    "collapsed": true
   },
   "outputs": [],
   "source": [
    "import matplotlib.pyplot as plt\n",
    "%matplotlib inline"
   ]
  },
  {
   "cell_type": "code",
   "execution_count": 65,
   "metadata": {
    "collapsed": false
   },
   "outputs": [
    {
     "data": {
      "image/png": "[encoded data removed]",
      "text/plain": [
       "<matplotlib.figure.Figure at 0x10eb22e10>"
      ]
     },
     "metadata": {},
     "output_type": "display_data"
    }
   ],
   "source": [
    "plt.figure(figsize=(5,5))\n",
    "plt.imshow(np.flipud(A[:,30:60].transpose()))\n",
    "plt.show()"
   ]
  },
  {
   "cell_type": "code",
   "execution_count": 34,
   "metadata": {
    "collapsed": false
   },
   "outputs": [
    {
     "data": {
      "text/plain": [
       "3.375"
      ]
     },
     "execution_count": 34,
     "metadata": {},
     "output_type": "execute_result"
    }
   ],
   "source": [
    "810/240."
   ]
  },
  {
   "cell_type": "code",
   "execution_count": 35,
   "metadata": {
    "collapsed": false
   },
   "outputs": [
    {
     "name": "stdout",
     "output_type": "stream",
     "text": [
      "note_on channel=9 note=36 velocity=109 time=0\n",
      "defaultdict(<type 'list'>, {})\n",
      "note_on channel=9 note=42 velocity=97 time=11\n",
      "defaultdict(<type 'list'>, {36: [(0, <message note_on channel=9 note=36 velocity=109 time=0>)]})\n",
      "note_on channel=9 note=36 velocity=0 time=19\n",
      "defaultdict(<type 'list'>, {42: [(11, <message note_on channel=9 note=42 velocity=97 time=11>)], 36: [(0, <message note_on channel=9 note=36 velocity=109 time=0>)]})\n",
      "note_on channel=9 note=42 velocity=0 time=11\n",
      "defaultdict(<type 'list'>, {42: [(11, <message note_on channel=9 note=42 velocity=97 time=11>)], 36: []})\n",
      "note_on channel=9 note=36 velocity=91 time=81\n",
      "defaultdict(<type 'list'>, {42: [], 36: []})\n",
      "note_on channel=9 note=42 velocity=95 time=3\n",
      "defaultdict(<type 'list'>, {42: [], 36: [(122, <message note_on channel=9 note=36 velocity=91 time=81>)]})\n",
      "note_on channel=9 note=36 velocity=0 time=27\n",
      "defaultdict(<type 'list'>, {42: [(125, <message note_on channel=9 note=42 velocity=95 time=3>)], 36: [(122, <message note_on channel=9 note=36 velocity=91 time=81>)]})\n",
      "note_on channel=9 note=42 velocity=0 time=3\n",
      "defaultdict(<type 'list'>, {42: [(125, <message note_on channel=9 note=42 velocity=95 time=3>)], 36: []})\n",
      "note_on channel=9 note=36 velocity=95 time=31\n",
      "defaultdict(<type 'list'>, {42: [], 36: []})\n",
      "note_on channel=9 note=36 velocity=0 time=30\n",
      "defaultdict(<type 'list'>, {42: [], 36: [(186, <message note_on channel=9 note=36 velocity=95 time=31>)]})\n",
      "note_on channel=9 note=38 velocity=105 time=25\n",
      "defaultdict(<type 'list'>, {42: [], 36: []})\n",
      "note_on channel=9 note=38 velocity=0 time=30\n",
      "defaultdict(<type 'list'>, {42: [], 36: [], 38: [(241, <message note_on channel=9 note=38 velocity=105 time=25>)]})\n",
      "note_on channel=9 note=36 velocity=111 time=35\n",
      "defaultdict(<type 'list'>, {42: [], 36: [], 38: []})\n",
      "note_on channel=9 note=46 velocity=111 time=5\n",
      "defaultdict(<type 'list'>, {42: [], 36: [(306, <message note_on channel=9 note=36 velocity=111 time=35>)], 38: []})\n",
      "note_on channel=9 note=36 velocity=0 time=25\n",
      "defaultdict(<type 'list'>, {42: [], 36: [(306, <message note_on channel=9 note=36 velocity=111 time=35>)], 46: [(311, <message note_on channel=9 note=46 velocity=111 time=5>)], 38: []})\n",
      "note_on channel=9 note=46 velocity=0 time=5\n",
      "defaultdict(<type 'list'>, {42: [], 36: [], 46: [(311, <message note_on channel=9 note=46 velocity=111 time=5>)], 38: []})\n",
      "note_on channel=9 note=44 velocity=92 time=14\n",
      "defaultdict(<type 'list'>, {42: [], 36: [], 46: [], 38: []})\n",
      "note_on channel=9 note=38 velocity=45 time=12\n",
      "defaultdict(<type 'list'>, {44: [(355, <message note_on channel=9 note=44 velocity=92 time=14>)], 42: [], 36: [], 46: [], 38: []})\n",
      "note_on channel=9 note=44 velocity=0 time=18\n",
      "defaultdict(<type 'list'>, {44: [(355, <message note_on channel=9 note=44 velocity=92 time=14>)], 42: [], 36: [], 46: [], 38: [(367, <message note_on channel=9 note=38 velocity=45 time=12>)]})\n",
      "note_on channel=9 note=38 velocity=0 time=12\n",
      "defaultdict(<type 'list'>, {44: [], 42: [], 36: [], 46: [], 38: [(367, <message note_on channel=9 note=38 velocity=45 time=12>)]})\n",
      "note_on channel=9 note=38 velocity=50 time=24\n",
      "defaultdict(<type 'list'>, {44: [], 42: [], 36: [], 46: [], 38: []})\n",
      "note_on channel=9 note=38 velocity=0 time=30\n",
      "defaultdict(<type 'list'>, {44: [], 42: [], 36: [], 46: [], 38: [(421, <message note_on channel=9 note=38 velocity=50 time=24>)]})\n",
      "note_on channel=9 note=38 velocity=106 time=31\n",
      "defaultdict(<type 'list'>, {44: [], 42: [], 36: [], 46: [], 38: []})\n",
      "note_on channel=9 note=38 velocity=0 time=30\n",
      "defaultdict(<type 'list'>, {44: [], 42: [], 36: [], 46: [], 38: [(482, <message note_on channel=9 note=38 velocity=106 time=31>)]})\n",
      "note_on channel=9 note=36 velocity=114 time=33\n",
      "defaultdict(<type 'list'>, {44: [], 42: [], 36: [], 46: [], 38: []})\n",
      "note_on channel=9 note=49 velocity=115 time=4\n",
      "defaultdict(<type 'list'>, {44: [], 42: [], 36: [(545, <message note_on channel=9 note=36 velocity=114 time=33>)], 46: [], 38: []})\n",
      "note_on channel=9 note=36 velocity=0 time=26\n",
      "defaultdict(<type 'list'>, {36: [(545, <message note_on channel=9 note=36 velocity=114 time=33>)], 38: [], 42: [], 44: [], 46: [], 49: [(549, <message note_on channel=9 note=49 velocity=115 time=4>)]})\n",
      "note_on channel=9 note=49 velocity=0 time=4\n",
      "defaultdict(<type 'list'>, {36: [], 38: [], 42: [], 44: [], 46: [], 49: [(549, <message note_on channel=9 note=49 velocity=115 time=4>)]})\n",
      "note_on channel=9 note=38 velocity=105 time=141\n",
      "defaultdict(<type 'list'>, {36: [], 38: [], 42: [], 44: [], 46: [], 49: []})\n",
      "note_on channel=9 note=38 velocity=0 time=30\n",
      "defaultdict(<type 'list'>, {36: [], 38: [(720, <message note_on channel=9 note=38 velocity=105 time=141>)], 42: [], 44: [], 46: [], 49: []})\n",
      "note_on channel=9 note=36 velocity=114 time=38\n",
      "defaultdict(<type 'list'>, {36: [], 38: [], 42: [], 44: [], 46: [], 49: []})\n",
      "note_on channel=9 note=57 velocity=112 time=6\n",
      "defaultdict(<type 'list'>, {36: [(788, <message note_on channel=9 note=36 velocity=114 time=38>)], 38: [], 42: [], 44: [], 46: [], 49: []})\n",
      "note_on channel=9 note=36 velocity=0 time=24\n",
      "defaultdict(<type 'list'>, {36: [(788, <message note_on channel=9 note=36 velocity=114 time=38>)], 38: [], 42: [], 44: [], 46: [], 49: [], 57: [(794, <message note_on channel=9 note=57 velocity=112 time=6>)]})\n",
      "note_on channel=9 note=57 velocity=0 time=6\n",
      "defaultdict(<type 'list'>, {36: [], 38: [], 42: [], 44: [], 46: [], 49: [], 57: [(794, <message note_on channel=9 note=57 velocity=112 time=6>)]})\n",
      "[(0, <message note_on channel=9 note=36 velocity=109 time=0>),\n",
      " (0, <message note_on channel=9 note=42 velocity=97 time=11>),\n",
      " (30, <message note_on channel=9 note=36 velocity=0 time=19>),\n",
      " (30, <message note_on channel=9 note=42 velocity=0 time=11>),\n",
      " (120, <message note_on channel=9 note=36 velocity=91 time=81>),\n",
      " (120, <message note_on channel=9 note=42 velocity=95 time=3>),\n",
      " (150, <message note_on channel=9 note=36 velocity=0 time=27>),\n",
      " (150, <message note_on channel=9 note=42 velocity=0 time=3>),\n",
      " (180, <message note_on channel=9 note=36 velocity=95 time=31>),\n",
      " (210, <message note_on channel=9 note=36 velocity=0 time=30>),\n",
      " (240, <message note_on channel=9 note=38 velocity=105 time=25>),\n",
      " (270, <message note_on channel=9 note=38 velocity=0 time=30>),\n",
      " (300, <message note_on channel=9 note=36 velocity=111 time=35>),\n",
      " (300, <message note_on channel=9 note=46 velocity=111 time=5>),\n",
      " (330, <message note_on channel=9 note=36 velocity=0 time=25>),\n",
      " (330, <message note_on channel=9 note=46 velocity=0 time=5>),\n",
      " (360, <message note_on channel=9 note=44 velocity=92 time=14>),\n",
      " (360, <message note_on channel=9 note=38 velocity=45 time=12>),\n",
      " (390, <message note_on channel=9 note=44 velocity=0 time=18>),\n",
      " (390, <message note_on channel=9 note=38 velocity=0 time=12>),\n",
      " (420, <message note_on channel=9 note=38 velocity=50 time=24>),\n",
      " (450, <message note_on channel=9 note=38 velocity=0 time=30>),\n",
      " (480, <message note_on channel=9 note=38 velocity=106 time=31>),\n",
      " (510, <message note_on channel=9 note=38 velocity=0 time=30>),\n",
      " (540, <message note_on channel=9 note=36 velocity=114 time=33>),\n",
      " (540, <message note_on channel=9 note=49 velocity=115 time=4>),\n",
      " (570, <message note_on channel=9 note=36 velocity=0 time=26>),\n",
      " (570, <message note_on channel=9 note=49 velocity=0 time=4>),\n",
      " (720, <message note_on channel=9 note=38 velocity=105 time=141>),\n",
      " (750, <message note_on channel=9 note=38 velocity=0 time=30>),\n",
      " (780, <message note_on channel=9 note=36 velocity=114 time=38>),\n",
      " (780, <message note_on channel=9 note=57 velocity=112 time=6>),\n",
      " (810, <message note_on channel=9 note=36 velocity=0 time=24>),\n",
      " (810, <message note_on channel=9 note=57 velocity=0 time=6>)]\n",
      "[0,\n",
      " 0,\n",
      " 30,\n",
      " 0,\n",
      " 90,\n",
      " 0,\n",
      " 30,\n",
      " 0,\n",
      " 30,\n",
      " 30,\n",
      " 30,\n",
      " 30,\n",
      " 30,\n",
      " 0,\n",
      " 30,\n",
      " 0,\n",
      " 30,\n",
      " 0,\n",
      " 30,\n",
      " 0,\n",
      " 30,\n",
      " 30,\n",
      " 30,\n",
      " 30,\n",
      " 30,\n",
      " 0,\n",
      " 30,\n",
      " 0,\n",
      " 150,\n",
      " 30,\n",
      " 30,\n",
      " 0,\n",
      " 30,\n",
      " 0]\n",
      "Track len in ticks: 810\n",
      "> /Users/snikolov/Dropbox/projects/neural-beats/midi_util.py(155)midi_to_array()\n",
      "-> print num_steps\n",
      "(Pdb) c\n",
      "27\n",
      "32\n"
     ]
    }
   ],
   "source": [
    "import midi_util\n",
    "reload(midi_util)\n",
    "mid = MidiFile('/Users/snikolov/Downloads/groove-monkee-midi-gm/original/Led Head/100 Hills/Verse Fills/100 S06 Verse 1 Fill 04.mid')\n",
    "#mid = MidiFile('/Users/snikolov/Downloads/groove-monkee-midi-gm/original/Funk Hip Hop RB/16ths/093 16ths 08 B.mid')\n",
    "array = midi_util.midi_to_array(mid, 5)"
   ]
  },
  {
   "cell_type": "code",
   "execution_count": 17,
   "metadata": {
    "collapsed": true
   },
   "outputs": [],
   "source": [
    "mid = MidiFile('/Users/snikolov/Downloads/groove-monkee-midi-gm/original/Breakbeats/090 BPM New York/090 New York A.mid')"
   ]
  },
  {
   "cell_type": "code",
   "execution_count": 23,
   "metadata": {
    "collapsed": false
   },
   "outputs": [
    {
     "name": "stdout",
     "output_type": "stream",
     "text": [
      "> /Users/snikolov/Dropbox/projects/neural-beats/midi_util.py(49)quantize_track()\n",
      "-> quantized_track = MidiTrack()\n",
      "(Pdb) c\n"
     ]
    }
   ],
   "source": [
    "reload(midi_util)\n",
    "qmid = midi_util.quantize(mid, quantization=5)"
   ]
  },
  {
   "cell_type": "code",
   "execution_count": 24,
   "metadata": {
    "collapsed": false
   },
   "outputs": [
    {
     "name": "stdout",
     "output_type": "stream",
     "text": [
      "=== Track 0\n",
      "<meta message track_name name=u'090 New York A' time=0>\n",
      "<meta message time_signature numerator=4 denominator=4 clocks_per_click=24 notated_32nd_notes_per_beat=8 time=0>\n",
      "<meta message set_tempo tempo=666667 time=0>\n",
      "<meta message end_of_track time=0>\n",
      "=== Track 1\n",
      "<message note_on channel=9 note=42 velocity=79 time=0>\n",
      "<message note_on channel=9 note=36 velocity=118 time=0>\n",
      "<message note_on channel=9 note=42 velocity=0 time=30>\n",
      "<message note_on channel=9 note=36 velocity=0 time=0>\n",
      "<message note_on channel=9 note=36 velocity=113 time=90>\n",
      "<message note_on channel=9 note=42 velocity=63 time=0>\n",
      "<message note_on channel=9 note=36 velocity=0 time=30>\n",
      "<message note_on channel=9 note=42 velocity=0 time=0>\n",
      "<message note_on channel=9 note=38 velocity=113 time=90>\n",
      "<message note_on channel=9 note=42 velocity=72 time=0>\n",
      "<message note_on channel=9 note=38 velocity=0 time=30>\n",
      "<message note_on channel=9 note=42 velocity=0 time=0>\n",
      "<message note_on channel=9 note=42 velocity=60 time=90>\n",
      "<message note_on channel=9 note=42 velocity=0 time=30>\n",
      "<message note_on channel=9 note=42 velocity=69 time=90>\n",
      "<message note_on channel=9 note=42 velocity=0 time=30>\n",
      "<message note_on channel=9 note=36 velocity=112 time=90>\n",
      "<message note_on channel=9 note=42 velocity=69 time=0>\n",
      "<message note_on channel=9 note=36 velocity=0 time=30>\n",
      "<message note_on channel=9 note=42 velocity=0 time=0>\n",
      "<message note_on channel=9 note=36 velocity=103 time=30>\n",
      "<message note_on channel=9 note=36 velocity=0 time=30>\n",
      "<message note_on channel=9 note=42 velocity=78 time=30>\n",
      "<message note_on channel=9 note=38 velocity=118 time=0>\n",
      "<message note_on channel=9 note=42 velocity=0 time=30>\n",
      "<message note_on channel=9 note=38 velocity=0 time=0>\n",
      "<message note_on channel=9 note=42 velocity=63 time=90>\n",
      "<message note_on channel=9 note=42 velocity=0 time=30>\n",
      "<message note_on channel=9 note=36 velocity=86 time=30>\n",
      "<message note_on channel=9 note=36 velocity=0 time=30>\n",
      "<message note_on channel=9 note=36 velocity=114 time=30>\n",
      "<message note_on channel=9 note=42 velocity=70 time=0>\n",
      "<message note_on channel=9 note=36 velocity=0 time=30>\n",
      "<message note_on channel=9 note=42 velocity=0 time=0>\n",
      "<message note_on channel=9 note=36 velocity=112 time=90>\n",
      "<message note_on channel=9 note=42 velocity=59 time=0>\n",
      "<message note_on channel=9 note=36 velocity=0 time=30>\n",
      "<message note_on channel=9 note=42 velocity=0 time=0>\n",
      "<message note_on channel=9 note=38 velocity=116 time=90>\n",
      "<message note_on channel=9 note=42 velocity=79 time=0>\n",
      "<message note_on channel=9 note=38 velocity=0 time=30>\n",
      "<message note_on channel=9 note=42 velocity=0 time=0>\n",
      "<message note_on channel=9 note=42 velocity=54 time=90>\n",
      "<message note_on channel=9 note=42 velocity=0 time=30>\n",
      "<message note_on channel=9 note=38 velocity=98 time=30>\n",
      "<message note_on channel=9 note=38 velocity=0 time=30>\n",
      "<message note_on channel=9 note=42 velocity=68 time=30>\n",
      "<message note_on channel=9 note=42 velocity=0 time=30>\n",
      "<message note_on channel=9 note=38 velocity=105 time=30>\n",
      "<message note_on channel=9 note=38 velocity=0 time=30>\n",
      "<message note_on channel=9 note=36 velocity=113 time=30>\n",
      "<message note_on channel=9 note=42 velocity=65 time=0>\n",
      "<message note_on channel=9 note=36 velocity=0 time=30>\n",
      "<message note_on channel=9 note=42 velocity=0 time=0>\n",
      "<message note_on channel=9 note=38 velocity=117 time=90>\n",
      "<message note_on channel=9 note=42 velocity=71 time=0>\n",
      "<message note_on channel=9 note=38 velocity=0 time=30>\n",
      "<message note_on channel=9 note=42 velocity=0 time=0>\n",
      "<message note_on channel=9 note=42 velocity=59 time=90>\n",
      "<message note_on channel=9 note=42 velocity=0 time=30>\n",
      "<message note_on channel=9 note=36 velocity=93 time=30>\n",
      "<message note_on channel=9 note=36 velocity=0 time=30>\n",
      "<message note_on channel=9 note=42 velocity=71 time=30>\n",
      "<message note_on channel=9 note=36 velocity=116 time=0>\n",
      "<message note_on channel=9 note=42 velocity=0 time=30>\n",
      "<message note_on channel=9 note=36 velocity=0 time=0>\n",
      "<message note_on channel=9 note=36 velocity=113 time=90>\n",
      "<message note_on channel=9 note=42 velocity=58 time=0>\n",
      "<message note_on channel=9 note=36 velocity=0 time=30>\n",
      "<message note_on channel=9 note=42 velocity=0 time=0>\n",
      "<message note_on channel=9 note=38 velocity=114 time=90>\n",
      "<message note_on channel=9 note=42 velocity=73 time=0>\n",
      "<message note_on channel=9 note=38 velocity=0 time=30>\n",
      "<message note_on channel=9 note=42 velocity=0 time=0>\n",
      "<message note_on channel=9 note=42 velocity=59 time=90>\n",
      "<message note_on channel=9 note=42 velocity=0 time=30>\n",
      "<message note_on channel=9 note=42 velocity=66 time=90>\n",
      "<message note_on channel=9 note=42 velocity=0 time=30>\n",
      "<message note_on channel=9 note=36 velocity=110 time=90>\n",
      "<message note_on channel=9 note=42 velocity=61 time=0>\n",
      "<message note_on channel=9 note=36 velocity=0 time=30>\n",
      "<message note_on channel=9 note=42 velocity=0 time=0>\n",
      "<message note_on channel=9 note=36 velocity=105 time=30>\n",
      "<message note_on channel=9 note=36 velocity=0 time=30>\n",
      "<message note_on channel=9 note=38 velocity=119 time=30>\n",
      "<message note_on channel=9 note=42 velocity=78 time=0>\n",
      "<message note_on channel=9 note=38 velocity=0 time=30>\n",
      "<message note_on channel=9 note=42 velocity=0 time=0>\n",
      "<message note_on channel=9 note=42 velocity=57 time=90>\n",
      "<message note_on channel=9 note=42 velocity=0 time=30>\n",
      "<message note_on channel=9 note=36 velocity=80 time=30>\n",
      "<message note_on channel=9 note=36 velocity=0 time=30>\n",
      "<message note_on channel=9 note=36 velocity=115 time=30>\n",
      "<message note_on channel=9 note=42 velocity=75 time=0>\n",
      "<message note_on channel=9 note=36 velocity=0 time=30>\n",
      "<message note_on channel=9 note=42 velocity=0 time=0>\n",
      "<message note_on channel=9 note=38 velocity=47 time=30>\n",
      "<message note_on channel=9 note=38 velocity=0 time=30>\n",
      "<message note_on channel=9 note=36 velocity=113 time=30>\n",
      "<message note_on channel=9 note=42 velocity=66 time=0>\n",
      "<message note_on channel=9 note=36 velocity=0 time=30>\n",
      "<message note_on channel=9 note=42 velocity=0 time=0>\n",
      "<message note_on channel=9 note=38 velocity=116 time=90>\n",
      "<message note_on channel=9 note=42 velocity=76 time=0>\n",
      "<message note_on channel=9 note=38 velocity=0 time=30>\n",
      "<message note_on channel=9 note=42 velocity=0 time=0>\n",
      "<message note_on channel=9 note=36 velocity=107 time=90>\n",
      "<message note_on channel=9 note=42 velocity=58 time=0>\n",
      "<message note_on channel=9 note=36 velocity=0 time=30>\n",
      "<message note_on channel=9 note=42 velocity=0 time=0>\n",
      "<message note_on channel=9 note=38 velocity=101 time=30>\n",
      "<message note_on channel=9 note=38 velocity=0 time=30>\n",
      "<message note_on channel=9 note=42 velocity=67 time=30>\n",
      "<message note_on channel=9 note=42 velocity=0 time=30>\n",
      "<message note_on channel=9 note=38 velocity=108 time=30>\n",
      "<message note_on channel=9 note=38 velocity=0 time=30>\n",
      "<message note_on channel=9 note=42 velocity=63 time=30>\n",
      "<message note_on channel=9 note=36 velocity=111 time=0>\n",
      "<message note_on channel=9 note=42 velocity=0 time=30>\n",
      "<message note_on channel=9 note=36 velocity=0 time=0>\n",
      "<message note_on channel=9 note=38 velocity=119 time=90>\n",
      "<message note_on channel=9 note=42 velocity=77 time=0>\n",
      "<message note_on channel=9 note=38 velocity=0 time=30>\n",
      "<message note_on channel=9 note=42 velocity=0 time=0>\n",
      "<message note_on channel=9 note=36 velocity=108 time=30>\n",
      "<message note_on channel=9 note=36 velocity=0 time=30>\n",
      "<message note_on channel=9 note=42 velocity=64 time=30>\n",
      "<message note_on channel=9 note=42 velocity=0 time=30>\n",
      "<message note_on channel=9 note=36 velocity=87 time=30>\n",
      "<message note_on channel=9 note=36 velocity=0 time=30>\n",
      "<meta message track_name name=u'090 New York A' time=0>\n",
      "<meta message end_of_track time=0>\n"
     ]
    }
   ],
   "source": [
    "qmid.print_tracks()"
   ]
  },
  {
   "cell_type": "code",
   "execution_count": 28,
   "metadata": {
    "collapsed": false,
    "scrolled": true
   },
   "outputs": [],
   "source": [
    "import os\n",
    "import numpy as np\n",
    "\n",
    "num_steps = 0\n",
    "base_dir = '/Users/snikolov/Downloads/groove-monkee-midi-gm'\n",
    "arrays = []\n",
    "for root, dirs, files in os.walk(os.path.join(base_dir, 'array')):\n",
    "    for filename in files:\n",
    "        if filename.split('.')[-1] == 'npy':\n",
    "            array = np.load(os.path.join(root, filename))\n",
    "            arrays.append(array)\n",
    "            #plt.figure(figsize=(3,10))\n",
    "            #plt.imshow(array[:,20:60])\n",
    "            #plt.show()"
   ]
  },
  {
   "cell_type": "code",
   "execution_count": 30,
   "metadata": {
    "collapsed": false
   },
   "outputs": [],
   "source": [
    "seq = np.concatenate(arrays, axis=0)"
   ]
  },
  {
   "cell_type": "code",
   "execution_count": 33,
   "metadata": {
    "collapsed": false
   },
   "outputs": [
    {
     "data": {
      "text/plain": [
       "array([[False, False, False, ..., False, False, False],\n",
       "       [False, False, False, ..., False, False, False],\n",
       "       [False, False, False, ..., False, False, False],\n",
       "       ..., \n",
       "       [False, False, False, ..., False, False, False],\n",
       "       [False, False, False, ..., False, False, False],\n",
       "       [False, False, False, ..., False, False, False]], dtype=bool)"
      ]
     },
     "execution_count": 33,
     "metadata": {},
     "output_type": "execute_result"
    }
   ],
   "source": [
    "seq[0:10]>0"
   ]
  },
  {
   "cell_type": "code",
   "execution_count": 83,
   "metadata": {
    "collapsed": false
   },
   "outputs": [],
   "source": [
    "SEQ_LEN = 32\n",
    "PITCH_RANGE = (30,60)\n",
    "NUM_PITCHES = PITCH_RANGE[1] - PITCH_RANGE[0]\n",
    "num_examples = seq.shape[0] - SEQ_LEN\n",
    "X = np.zeros((num_examples, SEQ_LEN, NUM_PITCHES), dtype=np.bool)\n",
    "y = np.zeros((num_examples, NUM_PITCHES), dtype=np.bool) \n",
    "for i in xrange(num_examples):\n",
    "    X[i, :, :] = seq[i:i+SEQ_LEN, PITCH_RANGE[0]:PITCH_RANGE[1]] > 0\n",
    "    y[i, :] = seq[i+SEQ_LEN, PITCH_RANGE[0]:PITCH_RANGE[1]] > 0\n",
    "X = 1 * X\n",
    "y = 1 * y"
   ]
  },
  {
   "cell_type": "code",
   "execution_count": 85,
   "metadata": {
    "collapsed": false
   },
   "outputs": [
    {
     "name": "stdout",
     "output_type": "stream",
     "text": [
      "-----O-O----O-------\n",
      "--------------------\n",
      "--------------------\n",
      "--------------------\n",
      "-------O------------\n",
      "--------------------\n",
      "-------O----O-------\n",
      "--------------------\n",
      "-----O--------------\n",
      "--------------------\n",
      "------------O-------\n",
      "--------------------\n",
      "-------O----O-O-----\n",
      "--------------------\n",
      "--------------------\n",
      "--------------------\n",
      "-----O-O----O-------\n",
      "--------------------\n",
      "--------------------\n",
      "--------------------\n",
      "-------O------O-----\n",
      "--------------------\n",
      "-------O----O-------\n",
      "--------------------\n",
      "-----O------O-------\n",
      "--------------------\n",
      "--------------------\n",
      "--------------------\n",
      "-------O----O-O-----\n",
      "--------------------\n",
      "--------------------\n",
      "--------------------\n",
      "-----O-O----O-------\n",
      "--------------------\n",
      "--------------------\n",
      "--------------------\n",
      "------------O-------\n",
      "--------------------\n",
      "-------O----O-------\n",
      "--------------------\n",
      "-----O--------------\n",
      "--------------------\n",
      "------------O-------\n",
      "--------------------\n",
      "-------O----O-O-----\n",
      "--------------------\n",
      "--------------------\n",
      "--------------------\n",
      "-----O-O----O-------\n",
      "--------------------\n",
      "-------O------------\n",
      "--------------------\n",
      "------------O-O-----\n",
      "--------------------\n",
      "-------O----O-------\n",
      "--------------------\n",
      "-----O------O-------\n",
      "--------------------\n",
      "--------------------\n",
      "--------------------\n",
      "-------O----O-O-----\n",
      "--------------------\n",
      "--------------------\n",
      "--------------------\n",
      "\n"
     ]
    }
   ],
   "source": [
    "reload(midi_util)\n",
    "midi_util.print_midi_array(array[:,:20])"
   ]
  },
  {
   "cell_type": "code",
   "execution_count": 67,
   "metadata": {
    "collapsed": false,
    "scrolled": true
   },
   "outputs": [
    {
     "data": {
      "image/png": "[encoded data removed]",
      "text/plain": [
       "<matplotlib.figure.Figure at 0x1067ae590>"
      ]
     },
     "metadata": {},
     "output_type": "display_data"
    }
   ],
   "source": [
    "plt.figure(figsize=(10,100))\n",
    "plt.imshow(y[:3000])\n",
    "plt.show()"
   ]
  },
  {
   "cell_type": "markdown",
   "metadata": {
    "collapsed": true
   },
   "source": [
    "# Writeup demos"
   ]
  },
  {
   "cell_type": "code",
   "execution_count": 50,
   "metadata": {
    "collapsed": true
   },
   "outputs": [],
   "source": [
    "mid = MidiFile('/Users/snikolov/Downloads/groove-monkee-midi-gm/original/Funk Hip Hop RB/16ths/093 16ths 08 B.mid')"
   ]
  },
  {
   "cell_type": "code",
   "execution_count": 52,
   "metadata": {
    "collapsed": false
   },
   "outputs": [
    {
     "name": "stdout",
     "output_type": "stream",
     "text": [
      "=== Track 0\n",
      "<meta message track_name name=u'093 16ths 08 B' time=0>\n",
      "<meta message time_signature numerator=4 denominator=4 clocks_per_click=24 notated_32nd_notes_per_beat=8 time=0>\n",
      "<meta message set_tempo tempo=923077 time=0>\n",
      "<meta message set_tempo tempo=674157 time=0>\n",
      "<meta message set_tempo tempo=588235 time=0>\n",
      "<meta message set_tempo tempo=638298 time=0>\n",
      "<meta message end_of_track time=0>\n",
      "=== Track 1\n",
      "<meta message track_name name=u'093 16ths 08 B' time=0>\n",
      "<message note_on channel=9 note=51 velocity=96 time=0>\n",
      "<message note_on channel=9 note=36 velocity=116 time=0>\n",
      "<message note_off channel=9 note=51 velocity=64 time=54>\n",
      "<message note_off channel=9 note=36 velocity=64 time=0>\n",
      "<message note_on channel=9 note=51 velocity=68 time=5>\n",
      "<message note_off channel=9 note=51 velocity=64 time=54>\n",
      "<message note_on channel=9 note=53 velocity=81 time=10>\n",
      "<message note_off channel=9 note=53 velocity=64 time=54>\n",
      "<message note_on channel=9 note=51 velocity=91 time=64>\n",
      "<message note_on channel=9 note=44 velocity=103 time=4>\n",
      "<message note_on channel=9 note=38 velocity=116 time=0>\n",
      "<message note_off channel=9 note=51 velocity=64 time=50>\n",
      "<message note_off channel=9 note=44 velocity=64 time=4>\n",
      "<message note_off channel=9 note=38 velocity=64 time=0>\n",
      "<message note_on channel=9 note=36 velocity=105 time=5>\n",
      "<message note_on channel=9 note=51 velocity=70 time=3>\n",
      "<message note_on channel=9 note=53 velocity=82 time=49>\n",
      "<message note_off channel=9 note=36 velocity=64 time=2>\n",
      "<message note_off channel=9 note=51 velocity=64 time=3>\n",
      "<message note_off channel=9 note=53 velocity=64 time=49>\n",
      "<message note_on channel=9 note=36 velocity=115 time=15>\n",
      "<message note_off channel=9 note=36 velocity=64 time=54>\n",
      "<message note_on channel=9 note=51 velocity=87 time=1>\n",
      "<message note_off channel=9 note=51 velocity=64 time=54>\n",
      "<message note_on channel=9 note=51 velocity=68 time=6>\n",
      "<message note_off channel=9 note=51 velocity=64 time=54>\n",
      "<message note_on channel=9 note=53 velocity=81 time=5>\n",
      "<message note_on channel=9 note=36 velocity=115 time=4>\n",
      "<message note_off channel=9 note=53 velocity=64 time=50>\n",
      "<message note_off channel=9 note=36 velocity=64 time=4>\n",
      "<message note_on channel=9 note=51 velocity=89 time=64>\n",
      "<message note_on channel=9 note=44 velocity=107 time=3>\n",
      "<message note_on channel=9 note=38 velocity=118 time=0>\n",
      "<message note_off channel=9 note=51 velocity=64 time=51>\n",
      "<message note_off channel=9 note=44 velocity=64 time=3>\n",
      "<message note_off channel=9 note=38 velocity=64 time=0>\n",
      "<message note_on channel=9 note=51 velocity=68 time=8>\n",
      "<message note_off channel=9 note=51 velocity=64 time=54>\n",
      "<message note_on channel=9 note=53 velocity=81 time=1>\n",
      "<message note_off channel=9 note=53 velocity=64 time=54>\n",
      "<message note_on channel=9 note=36 velocity=106 time=9>\n",
      "<message note_off channel=9 note=36 velocity=64 time=43>\n",
      "<meta message end_of_track time=5>\n",
      "None\n"
     ]
    }
   ],
   "source": [
    "print mid.print_tracks()"
   ]
  },
  {
   "cell_type": "code",
   "execution_count": 186,
   "metadata": {
    "collapsed": false
   },
   "outputs": [],
   "source": [
    "reload(midi_util)\n",
    "mid = MidiFile('/Users/snikolov/Downloads/groove-monkee-midi-gm/original/Funk Hip Hop RB/16ths/093 16ths 08 B.mid')\n",
    "A = midi_util.midi_to_array(mid, 5)\n",
    "B = np.flipud(A[:,30:60].transpose())\n"
   ]
  },
  {
   "cell_type": "code",
   "execution_count": 86,
   "metadata": {
    "collapsed": false
   },
   "outputs": [
    {
     "data": {
      "image/png": "[encoded data removed]",
      "text/plain": [
       "<matplotlib.figure.Figure at 0x10ed318d0>"
      ]
     },
     "metadata": {},
     "output_type": "display_data"
    }
   ],
   "source": [
    "C = B\n",
    "C[17] = B[6]\n",
    "C[6] = B[0]\n",
    "plt.figure(figsize=(5,5))\n",
    "plt.imshow(C[:, :])\n",
    "plt.show()"
   ]
  },
  {
   "cell_type": "code",
   "execution_count": 18,
   "metadata": {
    "collapsed": false
   },
   "outputs": [
    {
     "data": {
      "text/plain": [
       "'track_name'"
      ]
     },
     "execution_count": 18,
     "metadata": {},
     "output_type": "execute_result"
    }
   ],
   "source": [
    "mid.tracks[1][0].type"
   ]
  },
  {
   "cell_type": "code",
   "execution_count": 97,
   "metadata": {
    "collapsed": false
   },
   "outputs": [
    {
     "data": {
      "text/plain": [
       "array([[ 5.09623497],\n",
       "       [ 8.36020439],\n",
       "       [ 6.0756936 ],\n",
       "       [ 8.22060896],\n",
       "       [ 6.53707131],\n",
       "       [ 9.27459912],\n",
       "       [ 2.52955975],\n",
       "       [ 3.4396847 ],\n",
       "       [ 9.48062242],\n",
       "       [ 8.98373521]])"
      ]
     },
     "execution_count": 97,
     "metadata": {},
     "output_type": "execute_result"
    },
    {
     "data": {
      "image/png": "[encoded data removed]",
      "text/plain": [
       "<matplotlib.figure.Figure at 0x11e4bd490>"
      ]
     },
     "metadata": {},
     "output_type": "display_data"
    }
   ],
   "source": [
    "a = np.random.random((10,1))\n",
    "temp = 10\n",
    "b = np.log(a) / temp\n",
    "c = np.exp(b) / np.sum(np.exp(b))\n",
    "\n",
    "plt.plot(a / np.sum(a))\n",
    "plt.hold(True)\n",
    "#plt.plot(b)\n",
    "plt.plot(c)\n",
    "plt.legend(['a','c'])\n",
    "a / c"
   ]
  },
  {
   "cell_type": "code",
   "execution_count": 102,
   "metadata": {
    "collapsed": false
   },
   "outputs": [
    {
     "name": "stdout",
     "output_type": "stream",
     "text": [
      "[[  2.25803163e-05]\n",
      " [  3.91365686e-05]\n",
      " [  2.74510763e-05]\n",
      " [  3.84111487e-05]\n",
      " [  2.97768439e-05]\n",
      " [  4.39207444e-05]\n",
      " [  1.03687170e-05]\n",
      " [  1.45891209e-05]\n",
      " [  4.50061211e-05]\n",
      " [  4.23929764e-05]]\n",
      "[[ 0.93254003]\n",
      " [ 0.98526432]\n",
      " [ 0.9509341 ]\n",
      " [ 0.98342266]\n",
      " [ 0.95869916]\n",
      " [ 0.9966931 ]\n",
      " [ 0.86271427]\n",
      " [ 0.89268327]\n",
      " [ 0.99912917]\n",
      " [ 0.99317064]]\n"
     ]
    }
   ],
   "source": [
    "print np.exp(np.log(a))\n",
    "print np.exp(np.log(a)/temp)"
   ]
  },
  {
   "cell_type": "code",
   "execution_count": 105,
   "metadata": {
    "collapsed": false
   },
   "outputs": [
    {
     "data": {
      "text/plain": [
       "0.03989288706662908"
      ]
     },
     "execution_count": 105,
     "metadata": {},
     "output_type": "execute_result"
    }
   ],
   "source": [
    "np.random.rand()"
   ]
  },
  {
   "cell_type": "code",
   "execution_count": 128,
   "metadata": {
    "collapsed": true
   },
   "outputs": [],
   "source": [
    "np.random.seed(10)\n",
    "\n",
    "def sample(preds, temperature=1.0):\n",
    "    '''Given an array of values in [0,1] representing biased coin                                                                            \n",
    "    probabilities, generate a binary array of the same size.                                                                                 \n",
    "                                                                                                                                             \n",
    "    Flip each coin and generate a 0 or 1 according to the probability                                                                        \n",
    "    and the temperature. A higher temperature means it is more likely                                                                        \n",
    "    that a bit gets flipped.'''\n",
    "    res = np.zeros(preds.shape)\n",
    "    eps = 0.001\n",
    "    for i, pred in enumerate(preds):\n",
    "        # Adjust the binary probability distribution according to the                                                                        \n",
    "        # temperature.                                                                                                                       \n",
    "        binary_dist = np.array([\n",
    "            max(pred, eps), max(1-pred, eps)\n",
    "        ])\n",
    "        adjusted_dist = np.log(binary_dist) / temperature\n",
    "        adjusted_dist = np.exp(adjusted_dist) / np.sum(np.exp(adjusted_dist))\n",
    "        # Sample the adjusted distribution.                                                                                                  \n",
    "        if np.random.rand() < adjusted_dist[0]:\n",
    "            res[i] = 1\n",
    "    return res\n"
   ]
  },
  {
   "cell_type": "code",
   "execution_count": 142,
   "metadata": {
    "collapsed": false
   },
   "outputs": [],
   "source": [
    "a = 0.1 * np.ones(1000)"
   ]
  },
  {
   "cell_type": "code",
   "execution_count": 148,
   "metadata": {
    "collapsed": false
   },
   "outputs": [
    {
     "data": {
      "text/plain": [
       "275.0"
      ]
     },
     "execution_count": 148,
     "metadata": {},
     "output_type": "execute_result"
    }
   ],
   "source": [
    "np.sum(sample(a, temperature=2))"
   ]
  },
  {
   "cell_type": "code",
   "execution_count": 137,
   "metadata": {
    "collapsed": false
   },
   "outputs": [
    {
     "data": {
      "text/plain": [
       "array([ 1.   ,  0.001])"
      ]
     },
     "execution_count": 137,
     "metadata": {},
     "output_type": "execute_result"
    }
   ],
   "source": [
    "np.exp(np.log(np.array([1,0.001])) / 1.0)"
   ]
  },
  {
   "cell_type": "code",
   "execution_count": 162,
   "metadata": {
    "collapsed": false
   },
   "outputs": [
    {
     "data": {
      "text/plain": [
       "1.6094378624341019"
      ]
     },
     "execution_count": 162,
     "metadata": {},
     "output_type": "execute_result"
    }
   ],
   "source": [
    "# Cross-entropy example\n",
    "x = np.zeros(32)\n",
    "x[:5] = 1\n",
    "x = x/np.sum(x)\n",
    "\n",
    "y = np.zeros(32)\n",
    "y[:5] = 1\n",
    "y = y/np.sum(y)\n",
    "\n",
    "z = np.random.random((32,1))\n",
    "z = z/np.sum(z)\n",
    "-np.sum(x * np.log(y+0.00000001))"
   ]
  },
  {
   "cell_type": "markdown",
   "metadata": {},
   "source": [
    "# Reconstruct midi from array"
   ]
  },
  {
   "cell_type": "code",
   "execution_count": 165,
   "metadata": {
    "collapsed": false
   },
   "outputs": [
    {
     "data": {
      "text/plain": [
       "240"
      ]
     },
     "execution_count": 165,
     "metadata": {},
     "output_type": "execute_result"
    }
   ],
   "source": [
    "mid.ticks_per_beat"
   ]
  },
  {
   "cell_type": "code",
   "execution_count": 168,
   "metadata": {
    "collapsed": false
   },
   "outputs": [],
   "source": [
    "mid2 = MidiFile(ticks_per_beat=240)"
   ]
  },
  {
   "cell_type": "code",
   "execution_count": 171,
   "metadata": {
    "collapsed": false
   },
   "outputs": [
    {
     "name": "stdout",
     "output_type": "stream",
     "text": [
      "=== Track 0\n",
      "<meta message track_name name=u'120 High Life 01c' time=0>\n",
      "<meta message time_signature numerator=4 denominator=4 clocks_per_click=24 notated_32nd_notes_per_beat=8 time=0>\n",
      "<meta message set_tempo tempo=500000 time=0>\n",
      "<meta message end_of_track time=0>\n",
      "=== Track 1\n",
      "<meta message track_name name=u'120 High Life 01c' time=0>\n",
      "<message note_on channel=9 note=42 velocity=104 time=0>\n",
      "<message note_on channel=9 note=37 velocity=90 time=0>\n",
      "<message note_on channel=9 note=35 velocity=71 time=0>\n",
      "<message note_off channel=9 note=37 velocity=64 time=54>\n",
      "<message note_off channel=9 note=42 velocity=64 time=54>\n",
      "<message note_on channel=9 note=37 velocity=83 time=13>\n",
      "<message note_off channel=9 note=37 velocity=64 time=54>\n",
      "<message note_on channel=9 note=42 velocity=89 time=5>\n",
      "<message note_on channel=9 note=37 velocity=76 time=0>\n",
      "<message note_off channel=9 note=35 velocity=64 time=36>\n",
      "<message note_off channel=9 note=42 velocity=64 time=18>\n",
      "<message note_off channel=9 note=37 velocity=64 time=0>\n",
      "<message note_on channel=9 note=35 velocity=69 time=9>\n",
      "<message note_on channel=9 note=42 velocity=85 time=60>\n",
      "<message note_off channel=9 note=42 velocity=64 time=54>\n",
      "<message note_on channel=9 note=42 velocity=92 time=5>\n",
      "<message note_on channel=9 note=44 velocity=91 time=0>\n",
      "<message note_on channel=9 note=37 velocity=78 time=0>\n",
      "<message note_off channel=9 note=35 velocity=64 time=97>\n",
      "<message note_off channel=9 note=42 velocity=64 time=11>\n",
      "<message note_off channel=9 note=44 velocity=64 time=0>\n",
      "<message note_off channel=9 note=37 velocity=64 time=0>\n",
      "<message note_on channel=9 note=42 velocity=99 time=12>\n",
      "<message note_on channel=9 note=37 velocity=83 time=0>\n",
      "<message note_on channel=9 note=35 velocity=67 time=0>\n",
      "<message note_off channel=9 note=37 velocity=64 time=54>\n",
      "<message note_off channel=9 note=42 velocity=64 time=54>\n",
      "<message note_on channel=9 note=37 velocity=79 time=11>\n",
      "<message note_on channel=9 note=44 velocity=79 time=0>\n",
      "<message note_off channel=9 note=37 velocity=64 time=54>\n",
      "<message note_on channel=9 note=42 velocity=91 time=7>\n",
      "<message note_on channel=9 note=37 velocity=82 time=0>\n",
      "<message note_off channel=9 note=35 velocity=64 time=36>\n",
      "<message note_off channel=9 note=44 velocity=64 time=11>\n",
      "<message note_off channel=9 note=42 velocity=64 time=7>\n",
      "<message note_off channel=9 note=37 velocity=64 time=0>\n",
      "<message note_on channel=9 note=42 velocity=98 time=6>\n",
      "<message note_on channel=9 note=35 velocity=66 time=0>\n",
      "<message note_off channel=9 note=42 velocity=64 time=108>\n",
      "<message note_on channel=9 note=42 velocity=93 time=12>\n",
      "<message note_on channel=9 note=44 velocity=91 time=0>\n",
      "<message note_on channel=9 note=37 velocity=76 time=0>\n",
      "<message note_off channel=9 note=35 velocity=64 time=94>\n",
      "<message note_off channel=9 note=42 velocity=64 time=12>\n",
      "<message note_off channel=9 note=44 velocity=64 time=0>\n",
      "<message note_off channel=9 note=37 velocity=64 time=0>\n",
      "<message note_on channel=9 note=42 velocity=104 time=12>\n",
      "<message note_on channel=9 note=37 velocity=90 time=0>\n",
      "<message note_on channel=9 note=35 velocity=71 time=0>\n",
      "<message note_off channel=9 note=37 velocity=64 time=54>\n",
      "<message note_off channel=9 note=42 velocity=64 time=54>\n",
      "<message note_on channel=9 note=42 velocity=93 time=13>\n",
      "<message note_off channel=9 note=42 velocity=64 time=54>\n",
      "<message note_on channel=9 note=42 velocity=89 time=5>\n",
      "<message note_on channel=9 note=37 velocity=76 time=0>\n",
      "<message note_off channel=9 note=35 velocity=64 time=36>\n",
      "<message note_off channel=9 note=42 velocity=64 time=18>\n",
      "<message note_off channel=9 note=37 velocity=64 time=0>\n",
      "<message note_on channel=9 note=35 velocity=69 time=9>\n",
      "<message note_on channel=9 note=42 velocity=85 time=60>\n",
      "<message note_off channel=9 note=42 velocity=64 time=54>\n",
      "<message note_on channel=9 note=42 velocity=92 time=5>\n",
      "<message note_on channel=9 note=44 velocity=91 time=0>\n",
      "<message note_on channel=9 note=37 velocity=78 time=0>\n",
      "<message note_off channel=9 note=35 velocity=64 time=97>\n",
      "<message note_off channel=9 note=42 velocity=64 time=11>\n",
      "<message note_off channel=9 note=44 velocity=64 time=0>\n",
      "<message note_off channel=9 note=37 velocity=64 time=0>\n",
      "<message note_on channel=9 note=42 velocity=99 time=12>\n",
      "<message note_on channel=9 note=37 velocity=83 time=0>\n",
      "<message note_on channel=9 note=35 velocity=67 time=0>\n",
      "<message note_off channel=9 note=37 velocity=64 time=54>\n",
      "<message note_on channel=9 note=37 velocity=77 time=4>\n",
      "<message note_off channel=9 note=42 velocity=64 time=50>\n",
      "<message note_off channel=9 note=37 velocity=64 time=4>\n",
      "<message note_on channel=9 note=42 velocity=92 time=7>\n",
      "<message note_on channel=9 note=44 velocity=89 time=0>\n",
      "<message note_off channel=9 note=42 velocity=64 time=54>\n",
      "<message note_on channel=9 note=42 velocity=91 time=7>\n",
      "<message note_on channel=9 note=37 velocity=82 time=0>\n",
      "<message note_off channel=9 note=35 velocity=64 time=36>\n",
      "<message note_off channel=9 note=44 velocity=64 time=11>\n",
      "<message note_off channel=9 note=42 velocity=64 time=7>\n",
      "<message note_off channel=9 note=37 velocity=64 time=0>\n",
      "<message note_on channel=9 note=42 velocity=98 time=6>\n",
      "<message note_on channel=9 note=35 velocity=66 time=0>\n",
      "<message note_off channel=9 note=42 velocity=64 time=108>\n",
      "<message note_on channel=9 note=42 velocity=93 time=12>\n",
      "<message note_on channel=9 note=44 velocity=91 time=0>\n",
      "<message note_on channel=9 note=37 velocity=76 time=0>\n",
      "<message note_off channel=9 note=35 velocity=64 time=94>\n",
      "<message note_off channel=9 note=42 velocity=64 time=12>\n",
      "<message note_off channel=9 note=44 velocity=64 time=0>\n",
      "<message note_off channel=9 note=37 velocity=64 time=0>\n",
      "<meta message end_of_track time=12>\n"
     ]
    }
   ],
   "source": [
    "mid.print_tracks()"
   ]
  },
  {
   "cell_type": "code",
   "execution_count": 172,
   "metadata": {
    "collapsed": true
   },
   "outputs": [],
   "source": [
    "x = dict(y=3)"
   ]
  },
  {
   "cell_type": "code",
   "execution_count": 199,
   "metadata": {
    "collapsed": false
   },
   "outputs": [
    {
     "data": {
      "text/plain": [
       "array([ True,  True,  True,  True,  True,  True,  True,  True,  True,\n",
       "        True,  True,  True,  True,  True], dtype=bool)"
      ]
     },
     "execution_count": 199,
     "metadata": {},
     "output_type": "execute_result"
    }
   ],
   "source": [
    "proj = np.sum(A, axis=1)\n",
    "np.extract(proj, proj>0)"
   ]
  },
  {
   "cell_type": "code",
   "execution_count": 200,
   "metadata": {
    "collapsed": false
   },
   "outputs": [
    {
     "name": "stdout",
     "output_type": "stream",
     "text": [
      "42\n",
      "=== Track 0\n",
      "<meta message track_name name='test' time=0>\n",
      "<meta message time_signature numerator=4 denominator=4 clocks_per_click=24 notated_32nd_notes_per_beat=8 time=0>\n",
      "<meta message set_tempo tempo=500000 time=0>\n",
      "<meta message end_of_track time=0>\n",
      "=== Track 1\n",
      "<meta message track_name name='test' time=0>\n",
      "<message note_on channel=9 note=36 velocity=100 time=0>\n",
      "<message note_on channel=9 note=51 velocity=100 time=0>\n",
      "<message note_off channel=9 note=36 velocity=100 time=60>\n",
      "<message note_off channel=9 note=51 velocity=100 time=0>\n",
      "<message note_on channel=9 note=51 velocity=100 time=60>\n",
      "<message note_off channel=9 note=51 velocity=100 time=60>\n",
      "<message note_on channel=9 note=53 velocity=100 time=60>\n",
      "<message note_off channel=9 note=53 velocity=100 time=60>\n",
      "<message note_on channel=9 note=38 velocity=100 time=180>\n",
      "<message note_on channel=9 note=44 velocity=100 time=0>\n",
      "<message note_on channel=9 note=51 velocity=100 time=0>\n",
      "<message note_off channel=9 note=38 velocity=100 time=60>\n",
      "<message note_off channel=9 note=44 velocity=100 time=0>\n",
      "<message note_off channel=9 note=51 velocity=100 time=0>\n",
      "<message note_on channel=9 note=36 velocity=100 time=60>\n",
      "<message note_on channel=9 note=51 velocity=100 time=0>\n",
      "<message note_off channel=9 note=36 velocity=100 time=60>\n",
      "<message note_off channel=9 note=51 velocity=100 time=0>\n",
      "<message note_on channel=9 note=53 velocity=100 time=60>\n",
      "<message note_off channel=9 note=53 velocity=100 time=60>\n",
      "<message note_on channel=9 note=36 velocity=100 time=60>\n",
      "<message note_off channel=9 note=36 velocity=100 time=60>\n",
      "<message note_on channel=9 note=51 velocity=100 time=60>\n",
      "<message note_off channel=9 note=51 velocity=100 time=60>\n",
      "<message note_on channel=9 note=51 velocity=100 time=60>\n",
      "<message note_off channel=9 note=51 velocity=100 time=60>\n",
      "<message note_on channel=9 note=36 velocity=100 time=60>\n",
      "<message note_on channel=9 note=53 velocity=100 time=0>\n",
      "<message note_off channel=9 note=36 velocity=100 time=60>\n",
      "<message note_off channel=9 note=53 velocity=100 time=0>\n",
      "<message note_on channel=9 note=38 velocity=100 time=180>\n",
      "<message note_on channel=9 note=44 velocity=100 time=0>\n",
      "<message note_on channel=9 note=51 velocity=100 time=0>\n",
      "<message note_off channel=9 note=38 velocity=100 time=60>\n",
      "<message note_off channel=9 note=44 velocity=100 time=0>\n",
      "<message note_off channel=9 note=51 velocity=100 time=0>\n",
      "<message note_on channel=9 note=51 velocity=100 time=60>\n",
      "<message note_off channel=9 note=51 velocity=100 time=60>\n",
      "<message note_on channel=9 note=53 velocity=100 time=60>\n",
      "<message note_off channel=9 note=53 velocity=100 time=60>\n",
      "<message note_on channel=9 note=36 velocity=100 time=60>\n",
      "<message note_off channel=9 note=36 velocity=100 time=60>\n",
      "<meta message end_of_track time=0>\n"
     ]
    }
   ],
   "source": [
    "reload(midi_util)\n",
    "mid = MidiFile('/Users/snikolov/Downloads/groove-monkee-midi-gm/original/Funk Hip Hop RB/16ths/093 16ths 08 B.mid')\n",
    "A = midi_util.midi_to_array(mid, 5)\n",
    "mid_from_array = midi_util.array_to_midi(A, 'test', quantization=5, ticks_per_quarter=480)\n",
    "mid_from_array.print_tracks()\n",
    "mid_from_array.save('/Users/snikolov/Dropbox/projects/neural-beats/mid_from_array.mid')"
   ]
  },
  {
   "cell_type": "markdown",
   "metadata": {
    "collapsed": true
   },
   "source": [
    "# Encoding"
   ]
  },
  {
   "cell_type": "code",
   "execution_count": 4,
   "metadata": {
    "collapsed": false
   },
   "outputs": [],
   "source": [
    "import os\n",
    "import numpy as np\n",
    "\n",
    "base_dir = '/Users/snikolov/Downloads/groove-monkee-midi-gm/array'\n",
    "arrays = []\n",
    "for root, dirs, files in os.walk(base_dir):\n",
    "    for filename in files:\n",
    "        if filename.split('.')[-1] == 'npy':\n",
    "            array = np.load(os.path.join(root, filename))\n",
    "            arrays.append(array)\n",
    "seq = np.concatenate(arrays, axis=0)"
   ]
  },
  {
   "cell_type": "code",
   "execution_count": 6,
   "metadata": {
    "collapsed": false
   },
   "outputs": [],
   "source": [
    "freq = np.sum(seq > 0, axis=0)"
   ]
  },
  {
   "cell_type": "code",
   "execution_count": 9,
   "metadata": {
    "collapsed": false
   },
   "outputs": [
    {
     "data": {
      "image/png": "[encoded data removed]",
      "text/plain": [
       "<matplotlib.figure.Figure at 0x10b353610>"
      ]
     },
     "metadata": {},
     "output_type": "display_data"
    }
   ],
   "source": [
    "import matplotlib.pyplot as plt\n",
    "%matplotlib inline\n",
    "\n",
    "plt.stem(freq[30:60])\n",
    "plt.show()"
   ]
  },
  {
   "cell_type": "code",
   "execution_count": 35,
   "metadata": {
    "collapsed": false
   },
   "outputs": [
    {
     "data": {
      "text/plain": [
       "[(0, 0, 0, 0),\n",
       " (0, 0, 0, 1),\n",
       " (0, 0, 1, 0),\n",
       " (0, 0, 1, 1),\n",
       " (0, 1, 0, 0),\n",
       " (0, 1, 0, 1),\n",
       " (0, 1, 1, 0),\n",
       " (0, 1, 1, 1),\n",
       " (1, 0, 0, 0),\n",
       " (1, 0, 0, 1),\n",
       " (1, 0, 1, 0),\n",
       " (1, 0, 1, 1),\n",
       " (1, 1, 0, 0),\n",
       " (1, 1, 0, 1),\n",
       " (1, 1, 1, 0),\n",
       " (1, 1, 1, 1)]"
      ]
     },
     "execution_count": 35,
     "metadata": {},
     "output_type": "execute_result"
    }
   ],
   "source": [
    "import itertools\n",
    "[x for x in itertools.product([0,1],repeat=4)]"
   ]
  },
  {
   "cell_type": "code",
   "execution_count": 38,
   "metadata": {
    "collapsed": false
   },
   "outputs": [
    {
     "data": {
      "text/plain": [
       "{(0, 0, 0, 0): 0,\n",
       " (0, 0, 0, 1): 1,\n",
       " (0, 0, 1, 0): 2,\n",
       " (0, 0, 1, 1): 3,\n",
       " (0, 1, 0, 0): 4,\n",
       " (0, 1, 0, 1): 5,\n",
       " (0, 1, 1, 0): 6,\n",
       " (0, 1, 1, 1): 7,\n",
       " (1, 0, 0, 0): 8,\n",
       " (1, 0, 0, 1): 9,\n",
       " (1, 0, 1, 0): 10,\n",
       " (1, 0, 1, 1): 11,\n",
       " (1, 1, 0, 0): 12,\n",
       " (1, 1, 0, 1): 13,\n",
       " (1, 1, 1, 0): 14,\n",
       " (1, 1, 1, 1): 15}"
      ]
     },
     "execution_count": 38,
     "metadata": {},
     "output_type": "execute_result"
    }
   ],
   "source": [
    "PITCHES = [36,38,42,51]\n",
    "\n",
    "encodings = {\n",
    "    config : i\n",
    "    for i, config in enumerate(itertools.product([0,1], repeat=len(PITCHES)))\n",
    "}\n",
    "encodings"
   ]
  },
  {
   "cell_type": "code",
   "execution_count": 40,
   "metadata": {
    "collapsed": false
   },
   "outputs": [
    {
     "name": "stdout",
     "output_type": "stream",
     "text": [
      "[[ 95.   0.   0.   0.]\n",
      " [  0.   0.   0.   0.]\n",
      " [  0.   0.   0.   0.]\n",
      " ..., \n",
      " [  0.  47.   0.   0.]\n",
      " [  0.   0.   0.   0.]\n",
      " [  0.  69.   0.   0.]]\n",
      "[8, 0, 0, 0, 2, 0, 8, 0, 6, 0, 4, 0, 2, 0, 8, 0, 2, 0, 4, 0, 2, 0, 4, 4, 8, 0, 0, 0, 4, 0, 0, 0, 10, 0, 0, 0, 2, 0, 8, 0, 6, 0, 4, 0, 2, 0, 0, 8, 2, 0, 4, 0, 2, 0, 4, 4, 8, 0, 0, 0, 8, 0, 0, 0, 10, 0, 0, 0, 2, 0, 8, 0, 6, 0, 4, 0, 2, 0, 8, 0, 2, 0, 4, 0, 2, 0, 4, 4, 8, 0, 0, 0, 4, 0, 0, 0, 10, 0, 0, 0, 2, 0, 8, 0, 6, 0, 4, 0, 2, 0, 8, 0, 2, 0, 4, 0, 2, 0, 4, 4, 8, 0, 0, 0, 8, 0, 0, 0, 10, 0, 0, 0, 2, 0, 8, 0, 6, 0, 4, 0, 2, 0, 8, 0, 2, 0, 4, 0, 2, 0, 4, 4, 8, 0, 0, 0, 4, 0, 0, 0, 10, 0, 0, 0, 2, 0, 8, 0, 6, 0, 4, 0, 2, 0, 8, 0, 2, 0, 4, 0, 2, 0, 4, 4, 8, 0, 0, 0, 8, 0, 0, 0, 10, 0, 0, 0, 2, 0, 8, 0, 6, 0, 4, 0, 2, 0, 8, 0, 2, 0, 4, 0, 2, 0, 4, 4, 8, 0, 0, 0, 4, 0, 0, 0, 10, 0, 0, 0, 2, 0, 8, 0, 6, 0, 4, 0, 2, 0, 8, 0, 4, 4, 0, 4, 4, 4, 0, 4, 4, 4, 0, 4, 4, 4, 0, 4]\n",
      "[[ 100.    0.   71.    0.]\n",
      " [   0.    0.    0.    0.]\n",
      " [   0.    0.    0.    0.]\n",
      " [   0.    0.    0.    0.]\n",
      " [   0.    0.   90.    0.]\n",
      " [   0.    0.    0.    0.]\n",
      " [  88.    0.    0.    0.]\n",
      " [   0.    0.    0.    0.]\n",
      " [   0.   98.   78.    0.]\n",
      " [   0.    0.    0.    0.]\n",
      " [   0.   90.    0.    0.]\n",
      " [   0.    0.    0.    0.]\n",
      " [   0.    0.   97.    0.]\n",
      " [   0.    0.    0.    0.]\n",
      " [ 100.    0.    0.    0.]\n",
      " [   0.    0.    0.    0.]\n",
      " [   0.    0.    0.    0.]\n",
      " [   0.    0.    0.    0.]\n",
      " [   0.   95.    0.    0.]\n",
      " [   0.    0.    0.    0.]\n",
      " [   0.  106.    0.    0.]\n",
      " [   0.    0.    0.    0.]\n",
      " [   0.    0.    0.    0.]\n",
      " [   0.    0.    0.    0.]\n",
      " [ 100.    0.    0.    0.]\n",
      " [   0.    0.    0.    0.]\n",
      " [   0.   95.    0.    0.]\n",
      " [   0.    0.    0.    0.]\n",
      " [   0.  106.    0.    0.]\n",
      " [   0.    0.    0.    0.]\n",
      " [   0.    0.    0.    0.]\n",
      " [   0.    0.    0.    0.]]\n",
      "[10, 0, 0, 0, 2, 0, 8, 0, 6, 0, 4, 0, 2, 0, 8, 0, 0, 0, 4, 0, 4, 0, 0, 0, 8, 0, 4, 0, 4, 0, 0, 0]\n"
     ]
    }
   ],
   "source": [
    "\n",
    "sums = []\n",
    "for array in arrays[:2]:\n",
    "    print array[:, PITCHES]\n",
    "    config_nums = [\n",
    "        encodings[tuple((time_slice>0).astype(int))]\n",
    "            for time_slice in array[:, PITCHES]\n",
    "        ]\n",
    "    print config_nums\n",
    "    "
   ]
  },
  {
   "cell_type": "code",
   "execution_count": 33,
   "metadata": {
    "collapsed": false
   },
   "outputs": [
    {
     "data": {
      "text/plain": [
       "11"
      ]
     },
     "execution_count": 33,
     "metadata": {},
     "output_type": "execute_result"
    }
   ],
   "source": [
    "len([s for s in sums if s < 8])"
   ]
  },
  {
   "cell_type": "code",
   "execution_count": 25,
   "metadata": {
    "collapsed": false
   },
   "outputs": [
    {
     "data": {
      "text/plain": [
       "187"
      ]
     },
     "execution_count": 25,
     "metadata": {},
     "output_type": "execute_result"
    }
   ],
   "source": [
    "len(sums)"
   ]
  },
  {
   "cell_type": "code",
   "execution_count": 23,
   "metadata": {
    "collapsed": false
   },
   "outputs": [
    {
     "data": {
      "text/plain": [
       "[132,\n",
       " 14,\n",
       " 139,\n",
       " 111,\n",
       " 146,\n",
       " 116,\n",
       " 127,\n",
       " 19,\n",
       " 135,\n",
       " 141,\n",
       " 142,\n",
       " 111,\n",
       " 112,\n",
       " 139,\n",
       " 113,\n",
       " 65,\n",
       " 72,\n",
       " 59,\n",
       " 60,\n",
       " 63,\n",
       " 56,\n",
       " 56,\n",
       " 84,\n",
       " 83,\n",
       " 97,\n",
       " 93,\n",
       " 43,\n",
       " 12,\n",
       " 30,\n",
       " 75,\n",
       " 63,\n",
       " 121,\n",
       " 26,\n",
       " 106,\n",
       " 15,\n",
       " 15,\n",
       " 23,\n",
       " 22,\n",
       " 32,\n",
       " 34,\n",
       " 30,\n",
       " 26,\n",
       " 146,\n",
       " 17,\n",
       " 23,\n",
       " 20,\n",
       " 23,\n",
       " 8,\n",
       " 10,\n",
       " 8,\n",
       " 107,\n",
       " 57,\n",
       " 141,\n",
       " 99,\n",
       " 84,\n",
       " 73,\n",
       " 92,\n",
       " 17,\n",
       " 18,\n",
       " 17,\n",
       " 23,\n",
       " 21,\n",
       " 19,\n",
       " 20,\n",
       " 27,\n",
       " 131,\n",
       " 122,\n",
       " 135,\n",
       " 127,\n",
       " 84,\n",
       " 118,\n",
       " 11,\n",
       " 11,\n",
       " 11,\n",
       " 4,\n",
       " 7,\n",
       " 4,\n",
       " 271,\n",
       " 130,\n",
       " 131,\n",
       " 143,\n",
       " 18,\n",
       " 16,\n",
       " 14,\n",
       " 13,\n",
       " 17,\n",
       " 6,\n",
       " 11,\n",
       " 12,\n",
       " 31,\n",
       " 160,\n",
       " 110,\n",
       " 109,\n",
       " 64,\n",
       " 56,\n",
       " 191,\n",
       " 83,\n",
       " 80,\n",
       " 141,\n",
       " 60,\n",
       " 93,\n",
       " 65,\n",
       " 74,\n",
       " 73,\n",
       " 42,\n",
       " 31,\n",
       " 42,\n",
       " 47,\n",
       " 10,\n",
       " 141,\n",
       " 89,\n",
       " 249,\n",
       " 0,\n",
       " 105,\n",
       " 215,\n",
       " 15,\n",
       " 17,\n",
       " 12,\n",
       " 17,\n",
       " 16,\n",
       " 11,\n",
       " 14,\n",
       " 127,\n",
       " 80,\n",
       " 76,\n",
       " 65,\n",
       " 63,\n",
       " 135,\n",
       " 84,\n",
       " 80,\n",
       " 67,\n",
       " 63,\n",
       " 68,\n",
       " 64,\n",
       " 7,\n",
       " 108,\n",
       " 84,\n",
       " 95,\n",
       " 88,\n",
       " 91,\n",
       " 80,\n",
       " 83,\n",
       " 53,\n",
       " 53,\n",
       " 1,\n",
       " 14,\n",
       " 11,\n",
       " 6,\n",
       " 20,\n",
       " 24,\n",
       " 33,\n",
       " 36,\n",
       " 24,\n",
       " 28,\n",
       " 43,\n",
       " 47,\n",
       " 50,\n",
       " 47,\n",
       " 50,\n",
       " 61,\n",
       " 58,\n",
       " 62,\n",
       " 55,\n",
       " 53,\n",
       " 10,\n",
       " 10,\n",
       " 14,\n",
       " 15,\n",
       " 13,\n",
       " 15,\n",
       " 15,\n",
       " 73,\n",
       " 80,\n",
       " 45,\n",
       " 80,\n",
       " 53,\n",
       " 68,\n",
       " 40,\n",
       " 44,\n",
       " 65,\n",
       " 0,\n",
       " 0,\n",
       " 0,\n",
       " 16,\n",
       " 20,\n",
       " 18,\n",
       " 18]"
      ]
     },
     "execution_count": 23,
     "metadata": {},
     "output_type": "execute_result"
    }
   ],
   "source": [
    "sums"
   ]
  },
  {
   "cell_type": "code",
   "execution_count": null,
   "metadata": {
    "collapsed": true
   },
   "outputs": [],
   "source": []
  }
 ],
 "metadata": {
  "kernelspec": {
   "display_name": "Python 2",
   "language": "python",
   "name": "python2"
  },
  "language_info": {
   "codemirror_mode": {
    "name": "ipython",
    "version": 2
   },
   "file_extension": ".py",
   "mimetype": "text/x-python",
   "name": "python",
   "nbconvert_exporter": "python",
   "pygments_lexer": "ipython2",
   "version": "2.7.10"
  }
 },
 "nbformat": 4,
 "nbformat_minor": 0
}
